{
  "nbformat": 4,
  "nbformat_minor": 0,
  "metadata": {
    "colab": {
      "name": "Project 2: ML Model.ipynb",
      "provenance": [],
      "collapsed_sections": [
        "eeCdeIwAgb1O"
      ],
      "mount_file_id": "1lA7zzAaHZYKcwjcJnGS0Jdlh8ttbADVc",
      "authorship_tag": "ABX9TyPY3L6V7/C6pCIolyzvKMuO",
      "include_colab_link": true
    },
    "kernelspec": {
      "name": "python3",
      "display_name": "Python 3"
    },
    "language_info": {
      "name": "python"
    }
  },
  "cells": [
    {
      "cell_type": "markdown",
      "metadata": {
        "id": "view-in-github",
        "colab_type": "text"
      },
      "source": [
        "<a href=\"https://colab.research.google.com/github/sachsac/Im-Going-to-Disney-World/blob/main/ML_Model.ipynb\" target=\"_parent\"><img src=\"https://colab.research.google.com/assets/colab-badge.svg\" alt=\"Open In Colab\"/></a>"
      ]
    },
    {
      "cell_type": "markdown",
      "metadata": {
        "id": "eeCdeIwAgb1O"
      },
      "source": [
        "#Imports and upload data"
      ]
    },
    {
      "cell_type": "code",
      "metadata": {
        "id": "fQv4CZaGd1ys"
      },
      "source": [
        "import pandas as pd\n",
        "import numpy as np\n",
        "import seaborn as sns\n",
        "import matplotlib.pyplot as plt\n",
        "from sklearn.ensemble import GradientBoostingClassifier\n",
        "from sklearn.preprocessing import StandardScaler\n",
        "from sklearn.model_selection import train_test_split, GridSearchCV\n",
        "from sklearn.linear_model import LogisticRegression\n",
        "from sklearn.metrics import classification_report, plot_confusion_matrix\n",
        "from sklearn.neighbors import KNeighborsClassifier\n",
        "from lightgbm import LGBMClassifier\n",
        "from xgboost import XGBClassifier\n",
        "from sklearn.pipeline import make_pipeline\n",
        "from sklearn import metrics\n",
        "from sklearn.ensemble import RandomForestClassifier\n",
        "from sklearn.metrics import accuracy_score\n",
        "from sklearn.ensemble import VotingClassifier"
      ],
      "execution_count": 232,
      "outputs": []
    },
    {
      "cell_type": "markdown",
      "metadata": {
        "id": "taGt5shDFdgp"
      },
      "source": [
        "[My Cleaning Steps and EDA Notebook](https://colab.research.google.com/drive/14kr6L5CFFWyLyjZBRZDqr8q_9YZMKhV9?usp=sharing)"
      ]
    },
    {
      "cell_type": "code",
      "metadata": {
        "colab": {
          "base_uri": "https://localhost:8080/",
          "height": 433
        },
        "id": "DPPuPfzUg02m",
        "outputId": "78547546-f7c1-41ba-cb4c-019a10897cd3"
      },
      "source": [
        "df = pd.read_csv('https://raw.githubusercontent.com/sachsac/Im-Going-to-Disney-World/main/WDW_Cleaned.csv') #Cleaned data from original\n",
        "df.head()"
      ],
      "execution_count": 233,
      "outputs": [
        {
          "output_type": "execute_result",
          "data": {
            "text/html": [
              "<div>\n",
              "<style scoped>\n",
              "    .dataframe tbody tr th:only-of-type {\n",
              "        vertical-align: middle;\n",
              "    }\n",
              "\n",
              "    .dataframe tbody tr th {\n",
              "        vertical-align: top;\n",
              "    }\n",
              "\n",
              "    .dataframe thead th {\n",
              "        text-align: right;\n",
              "    }\n",
              "</style>\n",
              "<table border=\"1\" class=\"dataframe\">\n",
              "  <thead>\n",
              "    <tr style=\"text-align: right;\">\n",
              "      <th></th>\n",
              "      <th>Ride_name</th>\n",
              "      <th>Park_location</th>\n",
              "      <th>Park_area</th>\n",
              "      <th>Ride_type_all</th>\n",
              "      <th>Ride_type_thrill</th>\n",
              "      <th>Ride_type_spinning</th>\n",
              "      <th>Ride_type_slow</th>\n",
              "      <th>Ride_type_small_drops</th>\n",
              "      <th>Ride_type_big_drops</th>\n",
              "      <th>Ride_type_dark</th>\n",
              "      <th>Ride_type_scary</th>\n",
              "      <th>Ride_type_water</th>\n",
              "      <th>Fast_pass</th>\n",
              "      <th>Classic</th>\n",
              "      <th>Age_interest_all</th>\n",
              "      <th>Age_interest_preschoolers</th>\n",
              "      <th>Age_interest_tweens</th>\n",
              "      <th>Age_interest_teens</th>\n",
              "      <th>Age_interest_adults</th>\n",
              "      <th>Height_req_inches</th>\n",
              "      <th>Ride_duration_min</th>\n",
              "      <th>Age_of_ride_years</th>\n",
              "      <th>TL_rank</th>\n",
              "      <th>TA_Stars</th>\n",
              "    </tr>\n",
              "  </thead>\n",
              "  <tbody>\n",
              "    <tr>\n",
              "      <th>0</th>\n",
              "      <td>Alien Swirling Saucers</td>\n",
              "      <td>HS</td>\n",
              "      <td>Toy Story Land</td>\n",
              "      <td>spinning</td>\n",
              "      <td>0</td>\n",
              "      <td>1</td>\n",
              "      <td>0</td>\n",
              "      <td>0</td>\n",
              "      <td>0</td>\n",
              "      <td>0</td>\n",
              "      <td>0</td>\n",
              "      <td>0</td>\n",
              "      <td>1</td>\n",
              "      <td>0</td>\n",
              "      <td>all ages</td>\n",
              "      <td>1</td>\n",
              "      <td>1</td>\n",
              "      <td>1</td>\n",
              "      <td>1</td>\n",
              "      <td>32</td>\n",
              "      <td>1.5</td>\n",
              "      <td>4.314168</td>\n",
              "      <td>31</td>\n",
              "      <td>4.0</td>\n",
              "    </tr>\n",
              "    <tr>\n",
              "      <th>1</th>\n",
              "      <td>Astro Orbiter</td>\n",
              "      <td>MK</td>\n",
              "      <td>Tomorrowland</td>\n",
              "      <td>spinning, slow</td>\n",
              "      <td>0</td>\n",
              "      <td>1</td>\n",
              "      <td>1</td>\n",
              "      <td>0</td>\n",
              "      <td>0</td>\n",
              "      <td>0</td>\n",
              "      <td>0</td>\n",
              "      <td>0</td>\n",
              "      <td>0</td>\n",
              "      <td>1</td>\n",
              "      <td>all ages</td>\n",
              "      <td>1</td>\n",
              "      <td>1</td>\n",
              "      <td>1</td>\n",
              "      <td>1</td>\n",
              "      <td>0</td>\n",
              "      <td>1.5</td>\n",
              "      <td>27.657084</td>\n",
              "      <td>43</td>\n",
              "      <td>3.5</td>\n",
              "    </tr>\n",
              "    <tr>\n",
              "      <th>2</th>\n",
              "      <td>Avatar Flight of Passage</td>\n",
              "      <td>AK</td>\n",
              "      <td>Pandora</td>\n",
              "      <td>thrill</td>\n",
              "      <td>1</td>\n",
              "      <td>0</td>\n",
              "      <td>0</td>\n",
              "      <td>0</td>\n",
              "      <td>0</td>\n",
              "      <td>0</td>\n",
              "      <td>0</td>\n",
              "      <td>0</td>\n",
              "      <td>1</td>\n",
              "      <td>0</td>\n",
              "      <td>kids, tweens, teens, adults</td>\n",
              "      <td>0</td>\n",
              "      <td>1</td>\n",
              "      <td>1</td>\n",
              "      <td>1</td>\n",
              "      <td>44</td>\n",
              "      <td>5.0</td>\n",
              "      <td>5.406571</td>\n",
              "      <td>9</td>\n",
              "      <td>5.0</td>\n",
              "    </tr>\n",
              "    <tr>\n",
              "      <th>3</th>\n",
              "      <td>Big Thunder Mountain Railroad</td>\n",
              "      <td>MK</td>\n",
              "      <td>Frontierland</td>\n",
              "      <td>thrill, small drops</td>\n",
              "      <td>1</td>\n",
              "      <td>0</td>\n",
              "      <td>0</td>\n",
              "      <td>1</td>\n",
              "      <td>0</td>\n",
              "      <td>0</td>\n",
              "      <td>0</td>\n",
              "      <td>0</td>\n",
              "      <td>1</td>\n",
              "      <td>1</td>\n",
              "      <td>kids, tweens, teens, adults</td>\n",
              "      <td>0</td>\n",
              "      <td>1</td>\n",
              "      <td>1</td>\n",
              "      <td>1</td>\n",
              "      <td>40</td>\n",
              "      <td>3.5</td>\n",
              "      <td>42.080082</td>\n",
              "      <td>8</td>\n",
              "      <td>4.5</td>\n",
              "    </tr>\n",
              "    <tr>\n",
              "      <th>4</th>\n",
              "      <td>Buzz Lightyear's Space Ranger Spin</td>\n",
              "      <td>MK</td>\n",
              "      <td>Tomorrowland</td>\n",
              "      <td>spinning, slow</td>\n",
              "      <td>0</td>\n",
              "      <td>1</td>\n",
              "      <td>1</td>\n",
              "      <td>0</td>\n",
              "      <td>0</td>\n",
              "      <td>0</td>\n",
              "      <td>0</td>\n",
              "      <td>0</td>\n",
              "      <td>1</td>\n",
              "      <td>0</td>\n",
              "      <td>all ages</td>\n",
              "      <td>1</td>\n",
              "      <td>1</td>\n",
              "      <td>1</td>\n",
              "      <td>1</td>\n",
              "      <td>0</td>\n",
              "      <td>4.0</td>\n",
              "      <td>24.043121</td>\n",
              "      <td>32</td>\n",
              "      <td>4.5</td>\n",
              "    </tr>\n",
              "  </tbody>\n",
              "</table>\n",
              "</div>"
            ],
            "text/plain": [
              "                            Ride_name Park_location  ... TL_rank TA_Stars\n",
              "0              Alien Swirling Saucers            HS  ...      31      4.0\n",
              "1                       Astro Orbiter            MK  ...      43      3.5\n",
              "2            Avatar Flight of Passage            AK  ...       9      5.0\n",
              "3       Big Thunder Mountain Railroad            MK  ...       8      4.5\n",
              "4  Buzz Lightyear's Space Ranger Spin            MK  ...      32      4.5\n",
              "\n",
              "[5 rows x 24 columns]"
            ]
          },
          "metadata": {},
          "execution_count": 233
        }
      ]
    },
    {
      "cell_type": "code",
      "metadata": {
        "colab": {
          "base_uri": "https://localhost:8080/",
          "height": 433
        },
        "id": "j4_DUU00s_wk",
        "outputId": "a2bde24f-b3c1-4e98-c791-aaf42732abb5"
      },
      "source": [
        "#df with age interests removed from last step\n",
        "no_ages_df = pd.read_csv('https://raw.githubusercontent.com/sachsac/Im-Going-to-Disney-World/main/WDW_no_ages.csv')\n",
        "no_ages_df.head()"
      ],
      "execution_count": 234,
      "outputs": [
        {
          "output_type": "execute_result",
          "data": {
            "text/html": [
              "<div>\n",
              "<style scoped>\n",
              "    .dataframe tbody tr th:only-of-type {\n",
              "        vertical-align: middle;\n",
              "    }\n",
              "\n",
              "    .dataframe tbody tr th {\n",
              "        vertical-align: top;\n",
              "    }\n",
              "\n",
              "    .dataframe thead th {\n",
              "        text-align: right;\n",
              "    }\n",
              "</style>\n",
              "<table border=\"1\" class=\"dataframe\">\n",
              "  <thead>\n",
              "    <tr style=\"text-align: right;\">\n",
              "      <th></th>\n",
              "      <th>Ride_name</th>\n",
              "      <th>Park_location</th>\n",
              "      <th>Park_area</th>\n",
              "      <th>Ride_type_all</th>\n",
              "      <th>Ride_type_thrill</th>\n",
              "      <th>Ride_type_spinning</th>\n",
              "      <th>Ride_type_slow</th>\n",
              "      <th>Ride_type_small_drops</th>\n",
              "      <th>Ride_type_big_drops</th>\n",
              "      <th>Ride_type_dark</th>\n",
              "      <th>Ride_type_scary</th>\n",
              "      <th>Ride_type_water</th>\n",
              "      <th>Fast_pass</th>\n",
              "      <th>Classic</th>\n",
              "      <th>Height_req_inches</th>\n",
              "      <th>Ride_duration_min</th>\n",
              "      <th>Age_of_ride_years</th>\n",
              "      <th>TL_rank</th>\n",
              "      <th>TA_Stars</th>\n",
              "    </tr>\n",
              "  </thead>\n",
              "  <tbody>\n",
              "    <tr>\n",
              "      <th>0</th>\n",
              "      <td>Alien Swirling Saucers</td>\n",
              "      <td>HS</td>\n",
              "      <td>Toy Story Land</td>\n",
              "      <td>spinning</td>\n",
              "      <td>0</td>\n",
              "      <td>1</td>\n",
              "      <td>0</td>\n",
              "      <td>0</td>\n",
              "      <td>0</td>\n",
              "      <td>0</td>\n",
              "      <td>0</td>\n",
              "      <td>0</td>\n",
              "      <td>1</td>\n",
              "      <td>0</td>\n",
              "      <td>32</td>\n",
              "      <td>1.5</td>\n",
              "      <td>4.314168</td>\n",
              "      <td>31</td>\n",
              "      <td>4.0</td>\n",
              "    </tr>\n",
              "    <tr>\n",
              "      <th>1</th>\n",
              "      <td>Astro Orbiter</td>\n",
              "      <td>MK</td>\n",
              "      <td>Tomorrowland</td>\n",
              "      <td>spinning, slow</td>\n",
              "      <td>0</td>\n",
              "      <td>1</td>\n",
              "      <td>1</td>\n",
              "      <td>0</td>\n",
              "      <td>0</td>\n",
              "      <td>0</td>\n",
              "      <td>0</td>\n",
              "      <td>0</td>\n",
              "      <td>0</td>\n",
              "      <td>1</td>\n",
              "      <td>0</td>\n",
              "      <td>1.5</td>\n",
              "      <td>27.657084</td>\n",
              "      <td>43</td>\n",
              "      <td>3.5</td>\n",
              "    </tr>\n",
              "    <tr>\n",
              "      <th>2</th>\n",
              "      <td>Avatar Flight of Passage</td>\n",
              "      <td>AK</td>\n",
              "      <td>Pandora</td>\n",
              "      <td>thrill</td>\n",
              "      <td>1</td>\n",
              "      <td>0</td>\n",
              "      <td>0</td>\n",
              "      <td>0</td>\n",
              "      <td>0</td>\n",
              "      <td>0</td>\n",
              "      <td>0</td>\n",
              "      <td>0</td>\n",
              "      <td>1</td>\n",
              "      <td>0</td>\n",
              "      <td>44</td>\n",
              "      <td>5.0</td>\n",
              "      <td>5.406571</td>\n",
              "      <td>9</td>\n",
              "      <td>5.0</td>\n",
              "    </tr>\n",
              "    <tr>\n",
              "      <th>3</th>\n",
              "      <td>Big Thunder Mountain Railroad</td>\n",
              "      <td>MK</td>\n",
              "      <td>Frontierland</td>\n",
              "      <td>thrill, small drops</td>\n",
              "      <td>1</td>\n",
              "      <td>0</td>\n",
              "      <td>0</td>\n",
              "      <td>1</td>\n",
              "      <td>0</td>\n",
              "      <td>0</td>\n",
              "      <td>0</td>\n",
              "      <td>0</td>\n",
              "      <td>1</td>\n",
              "      <td>1</td>\n",
              "      <td>40</td>\n",
              "      <td>3.5</td>\n",
              "      <td>42.080082</td>\n",
              "      <td>8</td>\n",
              "      <td>4.5</td>\n",
              "    </tr>\n",
              "    <tr>\n",
              "      <th>4</th>\n",
              "      <td>Buzz Lightyear's Space Ranger Spin</td>\n",
              "      <td>MK</td>\n",
              "      <td>Tomorrowland</td>\n",
              "      <td>spinning, slow</td>\n",
              "      <td>0</td>\n",
              "      <td>1</td>\n",
              "      <td>1</td>\n",
              "      <td>0</td>\n",
              "      <td>0</td>\n",
              "      <td>0</td>\n",
              "      <td>0</td>\n",
              "      <td>0</td>\n",
              "      <td>1</td>\n",
              "      <td>0</td>\n",
              "      <td>0</td>\n",
              "      <td>4.0</td>\n",
              "      <td>24.043121</td>\n",
              "      <td>32</td>\n",
              "      <td>4.5</td>\n",
              "    </tr>\n",
              "  </tbody>\n",
              "</table>\n",
              "</div>"
            ],
            "text/plain": [
              "                            Ride_name Park_location  ... TL_rank TA_Stars\n",
              "0              Alien Swirling Saucers            HS  ...      31      4.0\n",
              "1                       Astro Orbiter            MK  ...      43      3.5\n",
              "2            Avatar Flight of Passage            AK  ...       9      5.0\n",
              "3       Big Thunder Mountain Railroad            MK  ...       8      4.5\n",
              "4  Buzz Lightyear's Space Ranger Spin            MK  ...      32      4.5\n",
              "\n",
              "[5 rows x 19 columns]"
            ]
          },
          "metadata": {},
          "execution_count": 234
        }
      ]
    },
    {
      "cell_type": "markdown",
      "metadata": {
        "id": "oorCyeKqtrfI"
      },
      "source": [
        "# Model Preprocessing"
      ]
    },
    {
      "cell_type": "markdown",
      "metadata": {
        "id": "CIv2IIyht780"
      },
      "source": [
        "## Change Index and Drop Unnecessary Columns\n",
        "Since Ride_type_all and age_interest_all are repetitive, I will NOT dummies them. They will be dropped out of the models. I will also choose to make the ride names the index.\n",
        "\n",
        "Lastly, if we are trying to determine what makes a ride enjoyable for future rides, we will want to drop our 'TL_rank' column as well."
      ]
    },
    {
      "cell_type": "code",
      "metadata": {
        "id": "CGBw4SIkuYw2"
      },
      "source": [
        "df = df.set_index('Ride_name').drop(columns = ['Ride_type_all', 'Age_interest_all', 'TL_rank'])\n",
        "no_ages_df = no_ages_df.set_index('Ride_name').drop(columns = ['Ride_type_all', 'TL_rank'])"
      ],
      "execution_count": 235,
      "outputs": []
    },
    {
      "cell_type": "code",
      "metadata": {
        "colab": {
          "base_uri": "https://localhost:8080/",
          "height": 464
        },
        "id": "sxMC5QLlux3e",
        "outputId": "06b3a26c-dfe4-444b-ddfd-d23fe0f1b48a"
      },
      "source": [
        "df.head()"
      ],
      "execution_count": 236,
      "outputs": [
        {
          "output_type": "execute_result",
          "data": {
            "text/html": [
              "<div>\n",
              "<style scoped>\n",
              "    .dataframe tbody tr th:only-of-type {\n",
              "        vertical-align: middle;\n",
              "    }\n",
              "\n",
              "    .dataframe tbody tr th {\n",
              "        vertical-align: top;\n",
              "    }\n",
              "\n",
              "    .dataframe thead th {\n",
              "        text-align: right;\n",
              "    }\n",
              "</style>\n",
              "<table border=\"1\" class=\"dataframe\">\n",
              "  <thead>\n",
              "    <tr style=\"text-align: right;\">\n",
              "      <th></th>\n",
              "      <th>Park_location</th>\n",
              "      <th>Park_area</th>\n",
              "      <th>Ride_type_thrill</th>\n",
              "      <th>Ride_type_spinning</th>\n",
              "      <th>Ride_type_slow</th>\n",
              "      <th>Ride_type_small_drops</th>\n",
              "      <th>Ride_type_big_drops</th>\n",
              "      <th>Ride_type_dark</th>\n",
              "      <th>Ride_type_scary</th>\n",
              "      <th>Ride_type_water</th>\n",
              "      <th>Fast_pass</th>\n",
              "      <th>Classic</th>\n",
              "      <th>Age_interest_preschoolers</th>\n",
              "      <th>Age_interest_tweens</th>\n",
              "      <th>Age_interest_teens</th>\n",
              "      <th>Age_interest_adults</th>\n",
              "      <th>Height_req_inches</th>\n",
              "      <th>Ride_duration_min</th>\n",
              "      <th>Age_of_ride_years</th>\n",
              "      <th>TA_Stars</th>\n",
              "    </tr>\n",
              "    <tr>\n",
              "      <th>Ride_name</th>\n",
              "      <th></th>\n",
              "      <th></th>\n",
              "      <th></th>\n",
              "      <th></th>\n",
              "      <th></th>\n",
              "      <th></th>\n",
              "      <th></th>\n",
              "      <th></th>\n",
              "      <th></th>\n",
              "      <th></th>\n",
              "      <th></th>\n",
              "      <th></th>\n",
              "      <th></th>\n",
              "      <th></th>\n",
              "      <th></th>\n",
              "      <th></th>\n",
              "      <th></th>\n",
              "      <th></th>\n",
              "      <th></th>\n",
              "      <th></th>\n",
              "    </tr>\n",
              "  </thead>\n",
              "  <tbody>\n",
              "    <tr>\n",
              "      <th>Alien Swirling Saucers</th>\n",
              "      <td>HS</td>\n",
              "      <td>Toy Story Land</td>\n",
              "      <td>0</td>\n",
              "      <td>1</td>\n",
              "      <td>0</td>\n",
              "      <td>0</td>\n",
              "      <td>0</td>\n",
              "      <td>0</td>\n",
              "      <td>0</td>\n",
              "      <td>0</td>\n",
              "      <td>1</td>\n",
              "      <td>0</td>\n",
              "      <td>1</td>\n",
              "      <td>1</td>\n",
              "      <td>1</td>\n",
              "      <td>1</td>\n",
              "      <td>32</td>\n",
              "      <td>1.5</td>\n",
              "      <td>4.314168</td>\n",
              "      <td>4.0</td>\n",
              "    </tr>\n",
              "    <tr>\n",
              "      <th>Astro Orbiter</th>\n",
              "      <td>MK</td>\n",
              "      <td>Tomorrowland</td>\n",
              "      <td>0</td>\n",
              "      <td>1</td>\n",
              "      <td>1</td>\n",
              "      <td>0</td>\n",
              "      <td>0</td>\n",
              "      <td>0</td>\n",
              "      <td>0</td>\n",
              "      <td>0</td>\n",
              "      <td>0</td>\n",
              "      <td>1</td>\n",
              "      <td>1</td>\n",
              "      <td>1</td>\n",
              "      <td>1</td>\n",
              "      <td>1</td>\n",
              "      <td>0</td>\n",
              "      <td>1.5</td>\n",
              "      <td>27.657084</td>\n",
              "      <td>3.5</td>\n",
              "    </tr>\n",
              "    <tr>\n",
              "      <th>Avatar Flight of Passage</th>\n",
              "      <td>AK</td>\n",
              "      <td>Pandora</td>\n",
              "      <td>1</td>\n",
              "      <td>0</td>\n",
              "      <td>0</td>\n",
              "      <td>0</td>\n",
              "      <td>0</td>\n",
              "      <td>0</td>\n",
              "      <td>0</td>\n",
              "      <td>0</td>\n",
              "      <td>1</td>\n",
              "      <td>0</td>\n",
              "      <td>0</td>\n",
              "      <td>1</td>\n",
              "      <td>1</td>\n",
              "      <td>1</td>\n",
              "      <td>44</td>\n",
              "      <td>5.0</td>\n",
              "      <td>5.406571</td>\n",
              "      <td>5.0</td>\n",
              "    </tr>\n",
              "    <tr>\n",
              "      <th>Big Thunder Mountain Railroad</th>\n",
              "      <td>MK</td>\n",
              "      <td>Frontierland</td>\n",
              "      <td>1</td>\n",
              "      <td>0</td>\n",
              "      <td>0</td>\n",
              "      <td>1</td>\n",
              "      <td>0</td>\n",
              "      <td>0</td>\n",
              "      <td>0</td>\n",
              "      <td>0</td>\n",
              "      <td>1</td>\n",
              "      <td>1</td>\n",
              "      <td>0</td>\n",
              "      <td>1</td>\n",
              "      <td>1</td>\n",
              "      <td>1</td>\n",
              "      <td>40</td>\n",
              "      <td>3.5</td>\n",
              "      <td>42.080082</td>\n",
              "      <td>4.5</td>\n",
              "    </tr>\n",
              "    <tr>\n",
              "      <th>Buzz Lightyear's Space Ranger Spin</th>\n",
              "      <td>MK</td>\n",
              "      <td>Tomorrowland</td>\n",
              "      <td>0</td>\n",
              "      <td>1</td>\n",
              "      <td>1</td>\n",
              "      <td>0</td>\n",
              "      <td>0</td>\n",
              "      <td>0</td>\n",
              "      <td>0</td>\n",
              "      <td>0</td>\n",
              "      <td>1</td>\n",
              "      <td>0</td>\n",
              "      <td>1</td>\n",
              "      <td>1</td>\n",
              "      <td>1</td>\n",
              "      <td>1</td>\n",
              "      <td>0</td>\n",
              "      <td>4.0</td>\n",
              "      <td>24.043121</td>\n",
              "      <td>4.5</td>\n",
              "    </tr>\n",
              "  </tbody>\n",
              "</table>\n",
              "</div>"
            ],
            "text/plain": [
              "                                   Park_location  ... TA_Stars\n",
              "Ride_name                                         ...         \n",
              "Alien Swirling Saucers                        HS  ...      4.0\n",
              "Astro Orbiter                                 MK  ...      3.5\n",
              "Avatar Flight of Passage                      AK  ...      5.0\n",
              "Big Thunder Mountain Railroad                 MK  ...      4.5\n",
              "Buzz Lightyear's Space Ranger Spin            MK  ...      4.5\n",
              "\n",
              "[5 rows x 20 columns]"
            ]
          },
          "metadata": {},
          "execution_count": 236
        }
      ]
    },
    {
      "cell_type": "code",
      "metadata": {
        "colab": {
          "base_uri": "https://localhost:8080/",
          "height": 464
        },
        "id": "uB-K61fNu0Lc",
        "outputId": "96eb70c4-28cc-4524-9be9-cecb337af6b2"
      },
      "source": [
        "no_ages_df.head()"
      ],
      "execution_count": 237,
      "outputs": [
        {
          "output_type": "execute_result",
          "data": {
            "text/html": [
              "<div>\n",
              "<style scoped>\n",
              "    .dataframe tbody tr th:only-of-type {\n",
              "        vertical-align: middle;\n",
              "    }\n",
              "\n",
              "    .dataframe tbody tr th {\n",
              "        vertical-align: top;\n",
              "    }\n",
              "\n",
              "    .dataframe thead th {\n",
              "        text-align: right;\n",
              "    }\n",
              "</style>\n",
              "<table border=\"1\" class=\"dataframe\">\n",
              "  <thead>\n",
              "    <tr style=\"text-align: right;\">\n",
              "      <th></th>\n",
              "      <th>Park_location</th>\n",
              "      <th>Park_area</th>\n",
              "      <th>Ride_type_thrill</th>\n",
              "      <th>Ride_type_spinning</th>\n",
              "      <th>Ride_type_slow</th>\n",
              "      <th>Ride_type_small_drops</th>\n",
              "      <th>Ride_type_big_drops</th>\n",
              "      <th>Ride_type_dark</th>\n",
              "      <th>Ride_type_scary</th>\n",
              "      <th>Ride_type_water</th>\n",
              "      <th>Fast_pass</th>\n",
              "      <th>Classic</th>\n",
              "      <th>Height_req_inches</th>\n",
              "      <th>Ride_duration_min</th>\n",
              "      <th>Age_of_ride_years</th>\n",
              "      <th>TA_Stars</th>\n",
              "    </tr>\n",
              "    <tr>\n",
              "      <th>Ride_name</th>\n",
              "      <th></th>\n",
              "      <th></th>\n",
              "      <th></th>\n",
              "      <th></th>\n",
              "      <th></th>\n",
              "      <th></th>\n",
              "      <th></th>\n",
              "      <th></th>\n",
              "      <th></th>\n",
              "      <th></th>\n",
              "      <th></th>\n",
              "      <th></th>\n",
              "      <th></th>\n",
              "      <th></th>\n",
              "      <th></th>\n",
              "      <th></th>\n",
              "    </tr>\n",
              "  </thead>\n",
              "  <tbody>\n",
              "    <tr>\n",
              "      <th>Alien Swirling Saucers</th>\n",
              "      <td>HS</td>\n",
              "      <td>Toy Story Land</td>\n",
              "      <td>0</td>\n",
              "      <td>1</td>\n",
              "      <td>0</td>\n",
              "      <td>0</td>\n",
              "      <td>0</td>\n",
              "      <td>0</td>\n",
              "      <td>0</td>\n",
              "      <td>0</td>\n",
              "      <td>1</td>\n",
              "      <td>0</td>\n",
              "      <td>32</td>\n",
              "      <td>1.5</td>\n",
              "      <td>4.314168</td>\n",
              "      <td>4.0</td>\n",
              "    </tr>\n",
              "    <tr>\n",
              "      <th>Astro Orbiter</th>\n",
              "      <td>MK</td>\n",
              "      <td>Tomorrowland</td>\n",
              "      <td>0</td>\n",
              "      <td>1</td>\n",
              "      <td>1</td>\n",
              "      <td>0</td>\n",
              "      <td>0</td>\n",
              "      <td>0</td>\n",
              "      <td>0</td>\n",
              "      <td>0</td>\n",
              "      <td>0</td>\n",
              "      <td>1</td>\n",
              "      <td>0</td>\n",
              "      <td>1.5</td>\n",
              "      <td>27.657084</td>\n",
              "      <td>3.5</td>\n",
              "    </tr>\n",
              "    <tr>\n",
              "      <th>Avatar Flight of Passage</th>\n",
              "      <td>AK</td>\n",
              "      <td>Pandora</td>\n",
              "      <td>1</td>\n",
              "      <td>0</td>\n",
              "      <td>0</td>\n",
              "      <td>0</td>\n",
              "      <td>0</td>\n",
              "      <td>0</td>\n",
              "      <td>0</td>\n",
              "      <td>0</td>\n",
              "      <td>1</td>\n",
              "      <td>0</td>\n",
              "      <td>44</td>\n",
              "      <td>5.0</td>\n",
              "      <td>5.406571</td>\n",
              "      <td>5.0</td>\n",
              "    </tr>\n",
              "    <tr>\n",
              "      <th>Big Thunder Mountain Railroad</th>\n",
              "      <td>MK</td>\n",
              "      <td>Frontierland</td>\n",
              "      <td>1</td>\n",
              "      <td>0</td>\n",
              "      <td>0</td>\n",
              "      <td>1</td>\n",
              "      <td>0</td>\n",
              "      <td>0</td>\n",
              "      <td>0</td>\n",
              "      <td>0</td>\n",
              "      <td>1</td>\n",
              "      <td>1</td>\n",
              "      <td>40</td>\n",
              "      <td>3.5</td>\n",
              "      <td>42.080082</td>\n",
              "      <td>4.5</td>\n",
              "    </tr>\n",
              "    <tr>\n",
              "      <th>Buzz Lightyear's Space Ranger Spin</th>\n",
              "      <td>MK</td>\n",
              "      <td>Tomorrowland</td>\n",
              "      <td>0</td>\n",
              "      <td>1</td>\n",
              "      <td>1</td>\n",
              "      <td>0</td>\n",
              "      <td>0</td>\n",
              "      <td>0</td>\n",
              "      <td>0</td>\n",
              "      <td>0</td>\n",
              "      <td>1</td>\n",
              "      <td>0</td>\n",
              "      <td>0</td>\n",
              "      <td>4.0</td>\n",
              "      <td>24.043121</td>\n",
              "      <td>4.5</td>\n",
              "    </tr>\n",
              "  </tbody>\n",
              "</table>\n",
              "</div>"
            ],
            "text/plain": [
              "                                   Park_location  ... TA_Stars\n",
              "Ride_name                                         ...         \n",
              "Alien Swirling Saucers                        HS  ...      4.0\n",
              "Astro Orbiter                                 MK  ...      3.5\n",
              "Avatar Flight of Passage                      AK  ...      5.0\n",
              "Big Thunder Mountain Railroad                 MK  ...      4.5\n",
              "Buzz Lightyear's Space Ranger Spin            MK  ...      4.5\n",
              "\n",
              "[5 rows x 16 columns]"
            ]
          },
          "metadata": {},
          "execution_count": 237
        }
      ]
    },
    {
      "cell_type": "markdown",
      "metadata": {
        "id": "MsGQx1fKu-3O"
      },
      "source": [
        "## Get Dummies\n",
        "The categorical columns we will want to make into dummied columns are park_location and park_area, our last remaining object columns."
      ]
    },
    {
      "cell_type": "code",
      "metadata": {
        "id": "950IuU8ct5gY"
      },
      "source": [
        "no_ages_df = pd.get_dummies(no_ages_df, columns = ['Park_location', 'Park_area'], drop_first = False) #I choose not to drop first because of later steps where I will be dropping some of the area columns; I do not want to lose a possibly more important column by it being \"first\"\n",
        "df = pd.get_dummies(df, columns = ['Park_location', 'Park_area'], drop_first = False)"
      ],
      "execution_count": 238,
      "outputs": []
    },
    {
      "cell_type": "code",
      "metadata": {
        "colab": {
          "base_uri": "https://localhost:8080/",
          "height": 481
        },
        "id": "zYkmE5qmv9ov",
        "outputId": "1996b645-a84e-4019-ad7d-536be64fe002"
      },
      "source": [
        "no_ages_df.head()"
      ],
      "execution_count": 239,
      "outputs": [
        {
          "output_type": "execute_result",
          "data": {
            "text/html": [
              "<div>\n",
              "<style scoped>\n",
              "    .dataframe tbody tr th:only-of-type {\n",
              "        vertical-align: middle;\n",
              "    }\n",
              "\n",
              "    .dataframe tbody tr th {\n",
              "        vertical-align: top;\n",
              "    }\n",
              "\n",
              "    .dataframe thead th {\n",
              "        text-align: right;\n",
              "    }\n",
              "</style>\n",
              "<table border=\"1\" class=\"dataframe\">\n",
              "  <thead>\n",
              "    <tr style=\"text-align: right;\">\n",
              "      <th></th>\n",
              "      <th>Ride_type_thrill</th>\n",
              "      <th>Ride_type_spinning</th>\n",
              "      <th>Ride_type_slow</th>\n",
              "      <th>Ride_type_small_drops</th>\n",
              "      <th>Ride_type_big_drops</th>\n",
              "      <th>Ride_type_dark</th>\n",
              "      <th>Ride_type_scary</th>\n",
              "      <th>Ride_type_water</th>\n",
              "      <th>Fast_pass</th>\n",
              "      <th>Classic</th>\n",
              "      <th>Height_req_inches</th>\n",
              "      <th>Ride_duration_min</th>\n",
              "      <th>Age_of_ride_years</th>\n",
              "      <th>TA_Stars</th>\n",
              "      <th>Park_location_AK</th>\n",
              "      <th>Park_location_EC</th>\n",
              "      <th>Park_location_HS</th>\n",
              "      <th>Park_location_MK</th>\n",
              "      <th>Park_area_Adventureland</th>\n",
              "      <th>Park_area_Africa</th>\n",
              "      <th>Park_area_Asia</th>\n",
              "      <th>Park_area_Dinoland USA</th>\n",
              "      <th>Park_area_Echo Lake</th>\n",
              "      <th>Park_area_Fantasyland</th>\n",
              "      <th>Park_area_Frontierland</th>\n",
              "      <th>Park_area_Future World</th>\n",
              "      <th>Park_area_Liberty Square</th>\n",
              "      <th>Park_area_Main Street USA</th>\n",
              "      <th>Park_area_Pandora</th>\n",
              "      <th>Park_area_Sunset Boulevard</th>\n",
              "      <th>Park_area_Tomorrowland</th>\n",
              "      <th>Park_area_Toy Story Land</th>\n",
              "      <th>Park_area_World Showcase</th>\n",
              "    </tr>\n",
              "    <tr>\n",
              "      <th>Ride_name</th>\n",
              "      <th></th>\n",
              "      <th></th>\n",
              "      <th></th>\n",
              "      <th></th>\n",
              "      <th></th>\n",
              "      <th></th>\n",
              "      <th></th>\n",
              "      <th></th>\n",
              "      <th></th>\n",
              "      <th></th>\n",
              "      <th></th>\n",
              "      <th></th>\n",
              "      <th></th>\n",
              "      <th></th>\n",
              "      <th></th>\n",
              "      <th></th>\n",
              "      <th></th>\n",
              "      <th></th>\n",
              "      <th></th>\n",
              "      <th></th>\n",
              "      <th></th>\n",
              "      <th></th>\n",
              "      <th></th>\n",
              "      <th></th>\n",
              "      <th></th>\n",
              "      <th></th>\n",
              "      <th></th>\n",
              "      <th></th>\n",
              "      <th></th>\n",
              "      <th></th>\n",
              "      <th></th>\n",
              "      <th></th>\n",
              "      <th></th>\n",
              "    </tr>\n",
              "  </thead>\n",
              "  <tbody>\n",
              "    <tr>\n",
              "      <th>Alien Swirling Saucers</th>\n",
              "      <td>0</td>\n",
              "      <td>1</td>\n",
              "      <td>0</td>\n",
              "      <td>0</td>\n",
              "      <td>0</td>\n",
              "      <td>0</td>\n",
              "      <td>0</td>\n",
              "      <td>0</td>\n",
              "      <td>1</td>\n",
              "      <td>0</td>\n",
              "      <td>32</td>\n",
              "      <td>1.5</td>\n",
              "      <td>4.314168</td>\n",
              "      <td>4.0</td>\n",
              "      <td>0</td>\n",
              "      <td>0</td>\n",
              "      <td>1</td>\n",
              "      <td>0</td>\n",
              "      <td>0</td>\n",
              "      <td>0</td>\n",
              "      <td>0</td>\n",
              "      <td>0</td>\n",
              "      <td>0</td>\n",
              "      <td>0</td>\n",
              "      <td>0</td>\n",
              "      <td>0</td>\n",
              "      <td>0</td>\n",
              "      <td>0</td>\n",
              "      <td>0</td>\n",
              "      <td>0</td>\n",
              "      <td>0</td>\n",
              "      <td>1</td>\n",
              "      <td>0</td>\n",
              "    </tr>\n",
              "    <tr>\n",
              "      <th>Astro Orbiter</th>\n",
              "      <td>0</td>\n",
              "      <td>1</td>\n",
              "      <td>1</td>\n",
              "      <td>0</td>\n",
              "      <td>0</td>\n",
              "      <td>0</td>\n",
              "      <td>0</td>\n",
              "      <td>0</td>\n",
              "      <td>0</td>\n",
              "      <td>1</td>\n",
              "      <td>0</td>\n",
              "      <td>1.5</td>\n",
              "      <td>27.657084</td>\n",
              "      <td>3.5</td>\n",
              "      <td>0</td>\n",
              "      <td>0</td>\n",
              "      <td>0</td>\n",
              "      <td>1</td>\n",
              "      <td>0</td>\n",
              "      <td>0</td>\n",
              "      <td>0</td>\n",
              "      <td>0</td>\n",
              "      <td>0</td>\n",
              "      <td>0</td>\n",
              "      <td>0</td>\n",
              "      <td>0</td>\n",
              "      <td>0</td>\n",
              "      <td>0</td>\n",
              "      <td>0</td>\n",
              "      <td>0</td>\n",
              "      <td>1</td>\n",
              "      <td>0</td>\n",
              "      <td>0</td>\n",
              "    </tr>\n",
              "    <tr>\n",
              "      <th>Avatar Flight of Passage</th>\n",
              "      <td>1</td>\n",
              "      <td>0</td>\n",
              "      <td>0</td>\n",
              "      <td>0</td>\n",
              "      <td>0</td>\n",
              "      <td>0</td>\n",
              "      <td>0</td>\n",
              "      <td>0</td>\n",
              "      <td>1</td>\n",
              "      <td>0</td>\n",
              "      <td>44</td>\n",
              "      <td>5.0</td>\n",
              "      <td>5.406571</td>\n",
              "      <td>5.0</td>\n",
              "      <td>1</td>\n",
              "      <td>0</td>\n",
              "      <td>0</td>\n",
              "      <td>0</td>\n",
              "      <td>0</td>\n",
              "      <td>0</td>\n",
              "      <td>0</td>\n",
              "      <td>0</td>\n",
              "      <td>0</td>\n",
              "      <td>0</td>\n",
              "      <td>0</td>\n",
              "      <td>0</td>\n",
              "      <td>0</td>\n",
              "      <td>0</td>\n",
              "      <td>1</td>\n",
              "      <td>0</td>\n",
              "      <td>0</td>\n",
              "      <td>0</td>\n",
              "      <td>0</td>\n",
              "    </tr>\n",
              "    <tr>\n",
              "      <th>Big Thunder Mountain Railroad</th>\n",
              "      <td>1</td>\n",
              "      <td>0</td>\n",
              "      <td>0</td>\n",
              "      <td>1</td>\n",
              "      <td>0</td>\n",
              "      <td>0</td>\n",
              "      <td>0</td>\n",
              "      <td>0</td>\n",
              "      <td>1</td>\n",
              "      <td>1</td>\n",
              "      <td>40</td>\n",
              "      <td>3.5</td>\n",
              "      <td>42.080082</td>\n",
              "      <td>4.5</td>\n",
              "      <td>0</td>\n",
              "      <td>0</td>\n",
              "      <td>0</td>\n",
              "      <td>1</td>\n",
              "      <td>0</td>\n",
              "      <td>0</td>\n",
              "      <td>0</td>\n",
              "      <td>0</td>\n",
              "      <td>0</td>\n",
              "      <td>0</td>\n",
              "      <td>1</td>\n",
              "      <td>0</td>\n",
              "      <td>0</td>\n",
              "      <td>0</td>\n",
              "      <td>0</td>\n",
              "      <td>0</td>\n",
              "      <td>0</td>\n",
              "      <td>0</td>\n",
              "      <td>0</td>\n",
              "    </tr>\n",
              "    <tr>\n",
              "      <th>Buzz Lightyear's Space Ranger Spin</th>\n",
              "      <td>0</td>\n",
              "      <td>1</td>\n",
              "      <td>1</td>\n",
              "      <td>0</td>\n",
              "      <td>0</td>\n",
              "      <td>0</td>\n",
              "      <td>0</td>\n",
              "      <td>0</td>\n",
              "      <td>1</td>\n",
              "      <td>0</td>\n",
              "      <td>0</td>\n",
              "      <td>4.0</td>\n",
              "      <td>24.043121</td>\n",
              "      <td>4.5</td>\n",
              "      <td>0</td>\n",
              "      <td>0</td>\n",
              "      <td>0</td>\n",
              "      <td>1</td>\n",
              "      <td>0</td>\n",
              "      <td>0</td>\n",
              "      <td>0</td>\n",
              "      <td>0</td>\n",
              "      <td>0</td>\n",
              "      <td>0</td>\n",
              "      <td>0</td>\n",
              "      <td>0</td>\n",
              "      <td>0</td>\n",
              "      <td>0</td>\n",
              "      <td>0</td>\n",
              "      <td>0</td>\n",
              "      <td>1</td>\n",
              "      <td>0</td>\n",
              "      <td>0</td>\n",
              "    </tr>\n",
              "  </tbody>\n",
              "</table>\n",
              "</div>"
            ],
            "text/plain": [
              "                                    Ride_type_thrill  ...  Park_area_World Showcase\n",
              "Ride_name                                             ...                          \n",
              "Alien Swirling Saucers                             0  ...                         0\n",
              "Astro Orbiter                                      0  ...                         0\n",
              "Avatar Flight of Passage                           1  ...                         0\n",
              "Big Thunder Mountain Railroad                      1  ...                         0\n",
              "Buzz Lightyear's Space Ranger Spin                 0  ...                         0\n",
              "\n",
              "[5 rows x 33 columns]"
            ]
          },
          "metadata": {},
          "execution_count": 239
        }
      ]
    },
    {
      "cell_type": "code",
      "metadata": {
        "colab": {
          "base_uri": "https://localhost:8080/"
        },
        "id": "4ekAu32xwDMT",
        "outputId": "32e71c07-e165-40f4-d92d-a5647cd075bf"
      },
      "source": [
        "no_ages_df.shape"
      ],
      "execution_count": 240,
      "outputs": [
        {
          "output_type": "execute_result",
          "data": {
            "text/plain": [
              "(44, 33)"
            ]
          },
          "metadata": {},
          "execution_count": 240
        }
      ]
    },
    {
      "cell_type": "markdown",
      "metadata": {
        "id": "h0WPmb3KMjs4"
      },
      "source": [
        "## Change Target column to string\n",
        "\n",
        "What if we change the Star ratings into a binary with \"High\" and \"Low\" Stars?"
      ]
    },
    {
      "cell_type": "code",
      "metadata": {
        "colab": {
          "base_uri": "https://localhost:8080/"
        },
        "id": "kTVVZEZY6pwa",
        "outputId": "95d71c89-d6f2-43ff-ab15-181c664263d6"
      },
      "source": [
        "print('Distributions')\n",
        "print(df['TA_Stars'].describe())\n",
        "print('_______________________________')\n",
        "print('Value Counts')\n",
        "print(df['TA_Stars'].value_counts())"
      ],
      "execution_count": 241,
      "outputs": [
        {
          "output_type": "stream",
          "name": "stdout",
          "text": [
            "Distributions\n",
            "count    44.000000\n",
            "mean      4.227273\n",
            "std       0.437415\n",
            "min       3.000000\n",
            "25%       4.000000\n",
            "50%       4.250000\n",
            "75%       4.500000\n",
            "max       5.000000\n",
            "Name: TA_Stars, dtype: float64\n",
            "_______________________________\n",
            "Value Counts\n",
            "4.5    18\n",
            "4.0    17\n",
            "5.0     4\n",
            "3.5     4\n",
            "3.0     1\n",
            "Name: TA_Stars, dtype: int64\n"
          ]
        }
      ]
    },
    {
      "cell_type": "markdown",
      "metadata": {
        "id": "mcSuFt2B7Zx3"
      },
      "source": [
        "My thoughts are, have 4.5 and 5 as high (1/positive class), 4 and below as low (0/negative class) since 4 is under the mean."
      ]
    },
    {
      "cell_type": "code",
      "metadata": {
        "colab": {
          "base_uri": "https://localhost:8080/"
        },
        "id": "NprI2fCd6ZbC",
        "outputId": "de62c4b7-c217-423b-8dcb-eebc90cbb7ad"
      },
      "source": [
        "df['TA_Stars'] = df['TA_Stars'].replace({5.0: 1, 4.5: 1, 4.0: 0, 3.5: 0, 3.0: 0})\n",
        "df['TA_Stars'].value_counts() #perfect split!!"
      ],
      "execution_count": 242,
      "outputs": [
        {
          "output_type": "execute_result",
          "data": {
            "text/plain": [
              "1.0    22\n",
              "0.0    22\n",
              "Name: TA_Stars, dtype: int64"
            ]
          },
          "metadata": {},
          "execution_count": 242
        }
      ]
    },
    {
      "cell_type": "code",
      "metadata": {
        "colab": {
          "base_uri": "https://localhost:8080/"
        },
        "id": "yhvAfb758Yl2",
        "outputId": "584b7a9b-abc5-49da-cc9c-98f42345fb0b"
      },
      "source": [
        "#do the same for our no_ages_df\n",
        "no_ages_df['TA_Stars'] = no_ages_df['TA_Stars'].replace({5.0: 1, 4.5: 1, 4.0: 0, 3.5: 0, 3.0: 0})\n",
        "no_ages_df['TA_Stars'].value_counts() "
      ],
      "execution_count": 243,
      "outputs": [
        {
          "output_type": "execute_result",
          "data": {
            "text/plain": [
              "1.0    22\n",
              "0.0    22\n",
              "Name: TA_Stars, dtype: int64"
            ]
          },
          "metadata": {},
          "execution_count": 243
        }
      ]
    },
    {
      "cell_type": "markdown",
      "metadata": {
        "id": "jjfEJFfan5XN"
      },
      "source": [
        "We now half a perfectly balanced model!"
      ]
    },
    {
      "cell_type": "code",
      "metadata": {
        "colab": {
          "base_uri": "https://localhost:8080/"
        },
        "id": "FGU18ll_M4BI",
        "outputId": "184bbf3e-55c4-491d-bd9d-333fa2917599"
      },
      "source": [
        "#change them into integers rather than floats\n",
        "df['TA_Stars'] = df['TA_Stars'].astype(int)\n",
        "no_ages_df['TA_Stars'] = no_ages_df['TA_Stars'].astype(int)\n",
        "print('DF:', df['TA_Stars'].dtypes)\n",
        "print('No_ages:', no_ages_df['TA_Stars'].dtypes)"
      ],
      "execution_count": 244,
      "outputs": [
        {
          "output_type": "stream",
          "name": "stdout",
          "text": [
            "DF: int64\n",
            "No_ages: int64\n"
          ]
        }
      ]
    },
    {
      "cell_type": "markdown",
      "metadata": {
        "id": "RcocfRI9wTeV"
      },
      "source": [
        "# No Age Interests DF"
      ]
    },
    {
      "cell_type": "markdown",
      "metadata": {
        "id": "n8IbXuNFQFTG"
      },
      "source": [
        "## ML Model"
      ]
    },
    {
      "cell_type": "code",
      "metadata": {
        "colab": {
          "base_uri": "https://localhost:8080/"
        },
        "id": "2f6YP4RJQFnl",
        "outputId": "f9454daf-e914-4687-cb33-ea510738b196"
      },
      "source": [
        "no_ages_df['TA_Stars'].value_counts() # it should be the same as other df"
      ],
      "execution_count": 245,
      "outputs": [
        {
          "output_type": "execute_result",
          "data": {
            "text/plain": [
              "1    22\n",
              "0    22\n",
              "Name: TA_Stars, dtype: int64"
            ]
          },
          "metadata": {},
          "execution_count": 245
        }
      ]
    },
    {
      "cell_type": "code",
      "metadata": {
        "id": "G-DqGDuiQFnm"
      },
      "source": [
        "X = no_ages_df.drop(columns= 'TA_Stars')\n",
        "y = no_ages_df['TA_Stars']\n",
        "X_train, X_test, y_train, y_test = train_test_split(X, y, test_size=0.33, random_state=42, stratify = y)\n",
        "#chose to change the test size to 33% rather than 25% due to the size and distribution of the data"
      ],
      "execution_count": 246,
      "outputs": []
    },
    {
      "cell_type": "code",
      "metadata": {
        "colab": {
          "base_uri": "https://localhost:8080/"
        },
        "id": "kKY4fRyMR_Do",
        "outputId": "d4c5cc9d-6acf-4b9d-9d97-f31d1e35a1b7"
      },
      "source": [
        "unique, counts = np.unique(y_train, return_counts=True)\n",
        "print('Counts of each class in Training:', dict(zip(unique, counts)))\n",
        "unique, counts = np.unique(y_test, return_counts=True)\n",
        "print('Counts of each class in Test:', dict(zip(unique, counts)))"
      ],
      "execution_count": 247,
      "outputs": [
        {
          "output_type": "stream",
          "name": "stdout",
          "text": [
            "Counts of each class in Training: {0: 14, 1: 15}\n",
            "Counts of each class in Test: {0: 8, 1: 7}\n"
          ]
        }
      ]
    },
    {
      "cell_type": "code",
      "metadata": {
        "colab": {
          "base_uri": "https://localhost:8080/"
        },
        "id": "15vh2rxCQFnm",
        "outputId": "157352cd-808f-4da7-a8aa-3a8cc761e8d5"
      },
      "source": [
        "#Baseline accuracy: the accuracy to beat!\n",
        "print('Baseline Training Accuracy:')\n",
        "print(y_train.value_counts(normalize=True)) #slightly skewed to high stars\n",
        "print('---------------------------')\n",
        "print('Baseline Testing Accuracy:')\n",
        "print(y_test.value_counts(normalize=True))  #slight skewed to low stars)"
      ],
      "execution_count": 248,
      "outputs": [
        {
          "output_type": "stream",
          "name": "stdout",
          "text": [
            "Baseline Training Accuracy:\n",
            "1    0.517241\n",
            "0    0.482759\n",
            "Name: TA_Stars, dtype: float64\n",
            "---------------------------\n",
            "Baseline Testing Accuracy:\n",
            "0    0.533333\n",
            "1    0.466667\n",
            "Name: TA_Stars, dtype: float64\n"
          ]
        }
      ]
    },
    {
      "cell_type": "code",
      "metadata": {
        "colab": {
          "base_uri": "https://localhost:8080/"
        },
        "id": "w-J1WOhyQFnm",
        "outputId": "5db74069-287b-4fc4-ca48-d7283313752c"
      },
      "source": [
        "%%time\n",
        "#this is where things may change!\n",
        "rf = RandomForestClassifier(random_state=42)\n",
        "no_ages_rfpipe = make_pipeline(rf) #doesnt need scaler\n",
        "no_ages_rfpipe.fit(X_train, y_train)\n",
        "\n",
        "knn = KNeighborsClassifier()\n",
        "no_ages_knnpipe = make_pipeline(StandardScaler(), knn)\n",
        "no_ages_knnpipe.fit(X_train, y_train)\n",
        "\n",
        "no_ages_xgb = make_pipeline(StandardScaler(), XGBClassifier())\n",
        "no_ages_xgb.fit(X_train, y_train)\n",
        "\n",
        "no_ages_lgb = make_pipeline(StandardScaler(), LGBMClassifier())\n",
        "no_ages_lgb.fit(X_train, y_train)\n",
        "\n",
        "no_ages_gbc = make_pipeline(StandardScaler(), GradientBoostingClassifier())\n",
        "no_ages_gbc.fit(X_train, y_train)\n",
        "\n",
        "lr = LogisticRegression(random_state=42) #we have a binary so logistic regression may be useful\n",
        "no_ages_lrpipe = make_pipeline(StandardScaler(), lr)\n",
        "no_ages_lrpipe.fit(X_train, y_train)\n",
        "\n",
        "\n",
        "print('Random Forest Train Accuracy:', no_ages_rfpipe.score(X_train, y_train))\n",
        "print('Random ForestTest Accuracy:', no_ages_rfpipe.score(X_test, y_test))\n",
        "print('____________________________________')\n",
        "print('KNN Train Accuracy:', no_ages_knnpipe.score(X_train, y_train))\n",
        "print('KNN Test Accuracy:', no_ages_knnpipe.score(X_test, y_test))\n",
        "print('____________________________________')\n",
        "print('XGB Training accuracy:', no_ages_xgb.score(X_train, y_train))\n",
        "print('XGB Testing accuracy:', no_ages_xgb.score(X_test, y_test))\n",
        "print('____________________________________')\n",
        "print('LGB Regression Train Accuracy:', no_ages_lgb.score(X_train, y_train))\n",
        "print('LGB Regression Test Accuracy:', no_ages_lgb.score(X_test, y_test))\n",
        "print('____________________________________')\n",
        "print('GBC Regression Train Accuracy:', no_ages_gbc.score(X_train, y_train))\n",
        "print('GBC Regression Test Accuracy:', no_ages_gbc.score(X_test, y_test))\n",
        "print('____________________________________')\n",
        "print('Logistic Regression Train Accuracy:', no_ages_lrpipe.score(X_train, y_train))\n",
        "print('Logistic Regression Test Accuracy:', no_ages_lrpipe.score(X_test, y_test))"
      ],
      "execution_count": 249,
      "outputs": [
        {
          "output_type": "stream",
          "name": "stdout",
          "text": [
            "Random Forest Train Accuracy: 1.0\n",
            "Random ForestTest Accuracy: 0.6666666666666666\n",
            "____________________________________\n",
            "KNN Train Accuracy: 0.6551724137931034\n",
            "KNN Test Accuracy: 0.6666666666666666\n",
            "____________________________________\n",
            "XGB Training accuracy: 0.9310344827586207\n",
            "XGB Testing accuracy: 0.6666666666666666\n",
            "____________________________________\n",
            "LGB Regression Train Accuracy: 0.5172413793103449\n",
            "LGB Regression Test Accuracy: 0.4666666666666667\n",
            "____________________________________\n",
            "GBC Regression Train Accuracy: 1.0\n",
            "GBC Regression Test Accuracy: 0.6\n",
            "____________________________________\n",
            "Logistic Regression Train Accuracy: 0.9310344827586207\n",
            "Logistic Regression Test Accuracy: 0.6666666666666666\n",
            "CPU times: user 285 ms, sys: 9.02 ms, total: 294 ms\n",
            "Wall time: 304 ms\n"
          ]
        }
      ]
    },
    {
      "cell_type": "markdown",
      "metadata": {
        "id": "kA_p8PBJrHdb"
      },
      "source": [
        "KNN interestingly has a test set that performs better than training."
      ]
    },
    {
      "cell_type": "code",
      "metadata": {
        "colab": {
          "base_uri": "https://localhost:8080/"
        },
        "id": "6VnPQz-BQFnn",
        "outputId": "0a118220-8248-4708-ef67-1c6860678707"
      },
      "source": [
        "%%time\n",
        "no_ages_soft_vote = VotingClassifier(estimators = [('rf', no_ages_rfpipe),('lr', no_ages_lrpipe), ('xgb', no_ages_xgb)],voting = 'soft')  #top three are XGB, rf, and lr\n",
        "no_ages_soft_vote.fit(X_train, y_train)\n",
        "print('Combined Models Training Accuracy:', accuracy_score(y_train, no_ages_soft_vote.predict(X_train)))\n",
        "print('Combined Models Testing Accuracy:', accuracy_score(y_test, no_ages_soft_vote.predict(X_test)))"
      ],
      "execution_count": 250,
      "outputs": [
        {
          "output_type": "stream",
          "name": "stdout",
          "text": [
            "Combined Models Training Accuracy: 0.9655172413793104\n",
            "Combined Models Testing Accuracy: 0.7333333333333333\n",
            "CPU times: user 202 ms, sys: 4.03 ms, total: 206 ms\n",
            "Wall time: 208 ms\n"
          ]
        }
      ]
    },
    {
      "cell_type": "markdown",
      "metadata": {
        "id": "AejXQL8vTHhX"
      },
      "source": [
        "This vote created a prediction of its own that improves upon all our models!"
      ]
    },
    {
      "cell_type": "code",
      "metadata": {
        "colab": {
          "base_uri": "https://localhost:8080/"
        },
        "id": "72yiqbDZcVwn",
        "outputId": "9af73cf4-307f-4efe-ae87-1d192721c5b6"
      },
      "source": [
        "#classification report\n",
        "y_pred = no_ages_soft_vote.predict(X_test)\n",
        "print('Classification Report For Soft Vote')\n",
        "print(metrics.classification_report(y_test, y_pred))"
      ],
      "execution_count": 251,
      "outputs": [
        {
          "output_type": "stream",
          "name": "stdout",
          "text": [
            "Classification Report For Soft Vote\n",
            "              precision    recall  f1-score   support\n",
            "\n",
            "           0       0.70      0.88      0.78         8\n",
            "           1       0.80      0.57      0.67         7\n",
            "\n",
            "    accuracy                           0.73        15\n",
            "   macro avg       0.75      0.72      0.72        15\n",
            "weighted avg       0.75      0.73      0.73        15\n",
            "\n"
          ]
        }
      ]
    },
    {
      "cell_type": "code",
      "metadata": {
        "colab": {
          "base_uri": "https://localhost:8080/"
        },
        "id": "h31ULW3lcVwo",
        "outputId": "deca6281-0604-4145-d9d5-be4152406eb7"
      },
      "source": [
        "#compare to other models that had same testing accuracy\n",
        "y_pred = no_ages_lrpipe.predict(X_test)\n",
        "print('Logistic Regression Classification Report')\n",
        "print(metrics.classification_report(y_test, y_pred))\n",
        "#same as RF test classification report"
      ],
      "execution_count": 252,
      "outputs": [
        {
          "output_type": "stream",
          "name": "stdout",
          "text": [
            "Logistic Regression Classification Report\n",
            "              precision    recall  f1-score   support\n",
            "\n",
            "           0       0.64      0.88      0.74         8\n",
            "           1       0.75      0.43      0.55         7\n",
            "\n",
            "    accuracy                           0.67        15\n",
            "   macro avg       0.69      0.65      0.64        15\n",
            "weighted avg       0.69      0.67      0.65        15\n",
            "\n"
          ]
        }
      ]
    },
    {
      "cell_type": "code",
      "metadata": {
        "colab": {
          "base_uri": "https://localhost:8080/"
        },
        "id": "UX_yXcvwtC6K",
        "outputId": "88844622-0aca-4cf4-e472-b6fbdfd8f29e"
      },
      "source": [
        "#compare to our rf which was next highest\n",
        "y_pred = no_ages_rfpipe.predict(X_test)\n",
        "print('Random Forests Classification Report')\n",
        "print(metrics.classification_report(y_test, y_pred))"
      ],
      "execution_count": 253,
      "outputs": [
        {
          "output_type": "stream",
          "name": "stdout",
          "text": [
            "Random Forests Classification Report\n",
            "              precision    recall  f1-score   support\n",
            "\n",
            "           0       0.64      0.88      0.74         8\n",
            "           1       0.75      0.43      0.55         7\n",
            "\n",
            "    accuracy                           0.67        15\n",
            "   macro avg       0.69      0.65      0.64        15\n",
            "weighted avg       0.69      0.67      0.65        15\n",
            "\n"
          ]
        }
      ]
    },
    {
      "cell_type": "code",
      "metadata": {
        "colab": {
          "base_uri": "https://localhost:8080/",
          "height": 574
        },
        "id": "5DSX3hYCQFnn",
        "outputId": "f5db813b-22d8-484a-b7ef-77226147bce6"
      },
      "source": [
        "#what features affect our model the most?\n",
        "rf_features = pd.DataFrame({'feature': X_train.columns, 'feature_importance': rf.feature_importances_})\n",
        "rf_features.sort_values(by = 'feature_importance', inplace = True)\n",
        "\n",
        "plt.figure(figsize = (12, 9))\n",
        "plt.barh(rf_features['feature'], rf_features['feature_importance'])\n",
        "plt.xlabel('Importance Score', fontsize = 13)\n",
        "plt.xticks(fontsize = 12)\n",
        "plt.ylabel('Features', fontsize = 13)\n",
        "plt.yticks(fontsize = 12)\n",
        "plt.title('Feature Importances in our Model, Without Age Interests', fontsize = 14);"
      ],
      "execution_count": 254,
      "outputs": [
        {
          "output_type": "display_data",
          "data": {
            "image/png": "[encoded data removed]",
            "text/plain": [
              "<Figure size 864x648 with 1 Axes>"
            ]
          },
          "metadata": {
            "needs_background": "light"
          }
        }
      ]
    },
    {
      "cell_type": "markdown",
      "metadata": {
        "id": "wbuAHb3CwNFP"
      },
      "source": [
        "# Standard DF"
      ]
    },
    {
      "cell_type": "markdown",
      "metadata": {
        "id": "GyIT-Bn2ttBQ"
      },
      "source": [
        "## ML Model"
      ]
    },
    {
      "cell_type": "code",
      "metadata": {
        "colab": {
          "base_uri": "https://localhost:8080/"
        },
        "id": "WZjynRutJRbU",
        "outputId": "9620acbd-657a-49fa-fee3-d3d45e082782"
      },
      "source": [
        "df['TA_Stars'].value_counts()"
      ],
      "execution_count": 255,
      "outputs": [
        {
          "output_type": "execute_result",
          "data": {
            "text/plain": [
              "1    22\n",
              "0    22\n",
              "Name: TA_Stars, dtype: int64"
            ]
          },
          "metadata": {},
          "execution_count": 255
        }
      ]
    },
    {
      "cell_type": "code",
      "metadata": {
        "id": "b_8VRskTt1yr"
      },
      "source": [
        "X = df.drop(columns= 'TA_Stars')\n",
        "y = df['TA_Stars']\n",
        "X_train, X_test, y_train, y_test = train_test_split(X, y, test_size=0.33, random_state=42, stratify = y)\n",
        "#i also decided to use a 33% split rather than 25%"
      ],
      "execution_count": 256,
      "outputs": []
    },
    {
      "cell_type": "code",
      "metadata": {
        "colab": {
          "base_uri": "https://localhost:8080/"
        },
        "id": "H1is3qOSRw-2",
        "outputId": "496d211f-660b-4f05-cc19-be80246513ad"
      },
      "source": [
        "unique, counts = np.unique(y_train, return_counts=True)\n",
        "print('Counts of each class in Training:', dict(zip(unique, counts))) #splits are the same\n",
        "unique, counts = np.unique(y_test, return_counts=True)\n",
        "print('Counts of each class in Test:', dict(zip(unique, counts))) "
      ],
      "execution_count": 257,
      "outputs": [
        {
          "output_type": "stream",
          "name": "stdout",
          "text": [
            "Counts of each class in Training: {0: 14, 1: 15}\n",
            "Counts of each class in Test: {0: 8, 1: 7}\n"
          ]
        }
      ]
    },
    {
      "cell_type": "code",
      "metadata": {
        "colab": {
          "base_uri": "https://localhost:8080/"
        },
        "id": "_sR_9craI67D",
        "outputId": "138d412c-c7cc-4b66-95cb-e1f1683dbb1e"
      },
      "source": [
        "#Baseline accuracy: the same as no_ages_df\n",
        "print('Baseline Training Accuracy:')\n",
        "print(y_train.value_counts(normalize=True)) \n",
        "print('---------------------------')\n",
        "print('Baseline Testing Accuracy:')\n",
        "print(y_test.value_counts(normalize=True)) "
      ],
      "execution_count": 258,
      "outputs": [
        {
          "output_type": "stream",
          "name": "stdout",
          "text": [
            "Baseline Training Accuracy:\n",
            "1    0.517241\n",
            "0    0.482759\n",
            "Name: TA_Stars, dtype: float64\n",
            "---------------------------\n",
            "Baseline Testing Accuracy:\n",
            "0    0.533333\n",
            "1    0.466667\n",
            "Name: TA_Stars, dtype: float64\n"
          ]
        }
      ]
    },
    {
      "cell_type": "code",
      "metadata": {
        "colab": {
          "base_uri": "https://localhost:8080/"
        },
        "id": "-uQlpgHWKRMX",
        "outputId": "7ab361fb-e166-4407-c947-da84f66a6ffe"
      },
      "source": [
        "%%time\n",
        "#running same things as before for comparison\n",
        "rf = RandomForestClassifier(random_state=42)\n",
        "rfpipe = make_pipeline(rf) \n",
        "rfpipe.fit(X_train, y_train)\n",
        "\n",
        "knn = KNeighborsClassifier()\n",
        "knnpipe = make_pipeline(StandardScaler(), knn)\n",
        "knnpipe.fit(X_train, y_train)\n",
        "\n",
        "xgb = make_pipeline(StandardScaler(), XGBClassifier())\n",
        "xgb.fit(X_train, y_train)\n",
        "\n",
        "lgb = make_pipeline(StandardScaler(), LGBMClassifier())\n",
        "lgb.fit(X_train, y_train)\n",
        "\n",
        "gbc = make_pipeline(StandardScaler(), GradientBoostingClassifier())\n",
        "gbc.fit(X_train, y_train)\n",
        "\n",
        "lr = LogisticRegression(random_state=42) \n",
        "lrpipe = make_pipeline(StandardScaler(), lr)\n",
        "lrpipe.fit(X_train, y_train)\n",
        "\n",
        "\n",
        "print('Random Forest Train Accuracy:', rfpipe.score(X_train, y_train))\n",
        "print('Random ForestTest Accuracy:', rfpipe.score(X_test, y_test))\n",
        "print('____________________________________')\n",
        "print('KNN Train Accuracy:', knnpipe.score(X_train, y_train))\n",
        "print('KNN Test Accuracy:', knnpipe.score(X_test, y_test))\n",
        "print('____________________________________')\n",
        "print('XGB Training accuracy:', xgb.score(X_train, y_train))\n",
        "print('XGB Testing accuracy:', xgb.score(X_test, y_test))\n",
        "print('____________________________________')\n",
        "print('LGB Regression Train Accuracy:', lgb.score(X_train, y_train))\n",
        "print('LGB Regression Test Accuracy:', lgb.score(X_test, y_test))\n",
        "print('____________________________________')\n",
        "print('GBC Regression Train Accuracy:', gbc.score(X_train, y_train))\n",
        "print('GBC Regression Test Accuracy:', gbc.score(X_test, y_test))\n",
        "print('____________________________________')\n",
        "print('Logistic Regression Train Accuracy:', lrpipe.score(X_train, y_train))\n",
        "print('Logistic Regression Test Accuracy:', lrpipe.score(X_test, y_test))"
      ],
      "execution_count": 259,
      "outputs": [
        {
          "output_type": "stream",
          "name": "stdout",
          "text": [
            "Random Forest Train Accuracy: 1.0\n",
            "Random ForestTest Accuracy: 0.7333333333333333\n",
            "____________________________________\n",
            "KNN Train Accuracy: 0.6896551724137931\n",
            "KNN Test Accuracy: 0.6666666666666666\n",
            "____________________________________\n",
            "XGB Training accuracy: 0.9310344827586207\n",
            "XGB Testing accuracy: 0.7333333333333333\n",
            "____________________________________\n",
            "LGB Regression Train Accuracy: 0.5172413793103449\n",
            "LGB Regression Test Accuracy: 0.4666666666666667\n",
            "____________________________________\n",
            "GBC Regression Train Accuracy: 1.0\n",
            "GBC Regression Test Accuracy: 0.6666666666666666\n",
            "____________________________________\n",
            "Logistic Regression Train Accuracy: 0.9655172413793104\n",
            "Logistic Regression Test Accuracy: 0.6666666666666666\n",
            "CPU times: user 273 ms, sys: 12.1 ms, total: 285 ms\n",
            "Wall time: 280 ms\n"
          ]
        }
      ]
    },
    {
      "cell_type": "markdown",
      "metadata": {
        "id": "e7rGzgHwVhI_"
      },
      "source": [
        "Random Forest improves, the KNN training improves, the three boosting models stay the same, and the Logistic Regression improves on its training."
      ]
    },
    {
      "cell_type": "code",
      "metadata": {
        "colab": {
          "base_uri": "https://localhost:8080/"
        },
        "id": "YurBJsmZOQMN",
        "outputId": "269ba269-01a2-4953-8422-16c399eb7542"
      },
      "source": [
        "%%time\n",
        "soft_vote = VotingClassifier(estimators = [('rf', rfpipe),('lr', lrpipe), ('xgb', xgb)],voting = 'soft')  #top three are XGB, rf, and lr\n",
        "soft_vote.fit(X_train, y_train)\n",
        "print('Combined Models Training Accuracy:', accuracy_score(y_train, soft_vote.predict(X_train)))\n",
        "print('Combined Models Testing Accuracy:', accuracy_score(y_test, soft_vote.predict(X_test)))"
      ],
      "execution_count": 260,
      "outputs": [
        {
          "output_type": "stream",
          "name": "stdout",
          "text": [
            "Combined Models Training Accuracy: 0.9655172413793104\n",
            "Combined Models Testing Accuracy: 0.7333333333333333\n",
            "CPU times: user 194 ms, sys: 7.09 ms, total: 201 ms\n",
            "Wall time: 206 ms\n"
          ]
        }
      ]
    },
    {
      "cell_type": "markdown",
      "metadata": {
        "id": "Bri2I8zgSwiA"
      },
      "source": [
        "The soft vote remains the same."
      ]
    },
    {
      "cell_type": "code",
      "metadata": {
        "colab": {
          "base_uri": "https://localhost:8080/",
          "height": 476
        },
        "id": "wQqKzrbYOqQ2",
        "outputId": "9155a200-026f-42f1-8e47-2afa48d22862"
      },
      "source": [
        "#classification report is same as other df soft vote\n",
        "y_pred = soft_vote.predict(X_test)\n",
        "print('Classification Report For Soft Vote')\n",
        "print(metrics.classification_report(y_test, y_pred))\n",
        "plot_confusion_matrix(soft_vote, X_test, y_test, cmap = 'Blues')\n",
        "plt.title('Soft Vote');"
      ],
      "execution_count": 262,
      "outputs": [
        {
          "output_type": "stream",
          "name": "stdout",
          "text": [
            "Classification Report For Soft Vote\n",
            "              precision    recall  f1-score   support\n",
            "\n",
            "           0       0.70      0.88      0.78         8\n",
            "           1       0.80      0.57      0.67         7\n",
            "\n",
            "    accuracy                           0.73        15\n",
            "   macro avg       0.75      0.72      0.72        15\n",
            "weighted avg       0.75      0.73      0.73        15\n",
            "\n"
          ]
        },
        {
          "output_type": "display_data",
          "data": {
            "image/png": "[encoded data removed]",
            "text/plain": [
              "<Figure size 432x288 with 2 Axes>"
            ]
          },
          "metadata": {
            "needs_background": "light"
          }
        }
      ]
    },
    {
      "cell_type": "code",
      "metadata": {
        "colab": {
          "base_uri": "https://localhost:8080/"
        },
        "id": "c0QRLKg4b8W5",
        "outputId": "0f7fb72c-61d9-4573-da7d-40fd2c02e4a2"
      },
      "source": [
        "#classification report for rf, same as the soft vote\n",
        "y_pred = rfpipe.predict(X_test)\n",
        "print('Classification Report for RF')\n",
        "print(metrics.classification_report(y_test, y_pred))"
      ],
      "execution_count": 192,
      "outputs": [
        {
          "output_type": "stream",
          "name": "stdout",
          "text": [
            "Classification Report for RF\n",
            "              precision    recall  f1-score   support\n",
            "\n",
            "           0       0.70      0.88      0.78         8\n",
            "           1       0.80      0.57      0.67         7\n",
            "\n",
            "    accuracy                           0.73        15\n",
            "   macro avg       0.75      0.72      0.72        15\n",
            "weighted avg       0.75      0.73      0.73        15\n",
            "\n"
          ]
        }
      ]
    },
    {
      "cell_type": "code",
      "metadata": {
        "colab": {
          "base_uri": "https://localhost:8080/",
          "height": 574
        },
        "id": "sPnlrP-fPg-I",
        "outputId": "a17111b8-b1f2-4ca1-8f8a-2711e9316aa3"
      },
      "source": [
        "#looking again at the features applied to the model\n",
        "rf_features = pd.DataFrame({'feature': X_train.columns, 'feature_importance': rf.feature_importances_})\n",
        "rf_features.sort_values(by = 'feature_importance', inplace = True)\n",
        "\n",
        "plt.figure(figsize = (12, 9))\n",
        "plt.barh(rf_features['feature'], rf_features['feature_importance'])\n",
        "plt.xlabel('Importance Score', fontsize = 13)\n",
        "plt.xticks(fontsize = 12)\n",
        "plt.ylabel('Features', fontsize = 13)\n",
        "plt.yticks(fontsize = 12)\n",
        "plt.title('Feature Importances in our Full model', fontsize = 14);\n",
        "#looks similar to "
      ],
      "execution_count": 193,
      "outputs": [
        {
          "output_type": "display_data",
          "data": {
            "image/png": "[encoded data removed]",
            "text/plain": [
              "<Figure size 864x648 with 1 Axes>"
            ]
          },
          "metadata": {
            "needs_background": "light"
          }
        }
      ]
    },
    {
      "cell_type": "code",
      "metadata": {
        "colab": {
          "base_uri": "https://localhost:8080/",
          "height": 1000
        },
        "id": "le4TCk-_V61v",
        "outputId": "05177305-e2ba-4771-a8cf-14762a250d2e"
      },
      "source": [
        "data = {'Feature': X.columns, 'Importance': rf.feature_importances_}\n",
        "feature_importances = pd.DataFrame(data)\n",
        "feature_importances"
      ],
      "execution_count": 194,
      "outputs": [
        {
          "output_type": "execute_result",
          "data": {
            "text/html": [
              "<div>\n",
              "<style scoped>\n",
              "    .dataframe tbody tr th:only-of-type {\n",
              "        vertical-align: middle;\n",
              "    }\n",
              "\n",
              "    .dataframe tbody tr th {\n",
              "        vertical-align: top;\n",
              "    }\n",
              "\n",
              "    .dataframe thead th {\n",
              "        text-align: right;\n",
              "    }\n",
              "</style>\n",
              "<table border=\"1\" class=\"dataframe\">\n",
              "  <thead>\n",
              "    <tr style=\"text-align: right;\">\n",
              "      <th></th>\n",
              "      <th>Feature</th>\n",
              "      <th>Importance</th>\n",
              "    </tr>\n",
              "  </thead>\n",
              "  <tbody>\n",
              "    <tr>\n",
              "      <th>0</th>\n",
              "      <td>Ride_type_thrill</td>\n",
              "      <td>0.045716</td>\n",
              "    </tr>\n",
              "    <tr>\n",
              "      <th>1</th>\n",
              "      <td>Ride_type_spinning</td>\n",
              "      <td>0.047173</td>\n",
              "    </tr>\n",
              "    <tr>\n",
              "      <th>2</th>\n",
              "      <td>Ride_type_slow</td>\n",
              "      <td>0.076324</td>\n",
              "    </tr>\n",
              "    <tr>\n",
              "      <th>3</th>\n",
              "      <td>Ride_type_small_drops</td>\n",
              "      <td>0.016624</td>\n",
              "    </tr>\n",
              "    <tr>\n",
              "      <th>4</th>\n",
              "      <td>Ride_type_big_drops</td>\n",
              "      <td>0.012314</td>\n",
              "    </tr>\n",
              "    <tr>\n",
              "      <th>5</th>\n",
              "      <td>Ride_type_dark</td>\n",
              "      <td>0.030654</td>\n",
              "    </tr>\n",
              "    <tr>\n",
              "      <th>6</th>\n",
              "      <td>Ride_type_scary</td>\n",
              "      <td>0.013683</td>\n",
              "    </tr>\n",
              "    <tr>\n",
              "      <th>7</th>\n",
              "      <td>Ride_type_water</td>\n",
              "      <td>0.007818</td>\n",
              "    </tr>\n",
              "    <tr>\n",
              "      <th>8</th>\n",
              "      <td>Fast_pass</td>\n",
              "      <td>0.031573</td>\n",
              "    </tr>\n",
              "    <tr>\n",
              "      <th>9</th>\n",
              "      <td>Classic</td>\n",
              "      <td>0.032456</td>\n",
              "    </tr>\n",
              "    <tr>\n",
              "      <th>10</th>\n",
              "      <td>Age_interest_preschoolers</td>\n",
              "      <td>0.063085</td>\n",
              "    </tr>\n",
              "    <tr>\n",
              "      <th>11</th>\n",
              "      <td>Age_interest_tweens</td>\n",
              "      <td>0.000000</td>\n",
              "    </tr>\n",
              "    <tr>\n",
              "      <th>12</th>\n",
              "      <td>Age_interest_teens</td>\n",
              "      <td>0.000000</td>\n",
              "    </tr>\n",
              "    <tr>\n",
              "      <th>13</th>\n",
              "      <td>Age_interest_adults</td>\n",
              "      <td>0.000000</td>\n",
              "    </tr>\n",
              "    <tr>\n",
              "      <th>14</th>\n",
              "      <td>Height_req_inches</td>\n",
              "      <td>0.087727</td>\n",
              "    </tr>\n",
              "    <tr>\n",
              "      <th>15</th>\n",
              "      <td>Ride_duration_min</td>\n",
              "      <td>0.118462</td>\n",
              "    </tr>\n",
              "    <tr>\n",
              "      <th>16</th>\n",
              "      <td>Age_of_ride_years</td>\n",
              "      <td>0.109745</td>\n",
              "    </tr>\n",
              "    <tr>\n",
              "      <th>17</th>\n",
              "      <td>Park_location_AK</td>\n",
              "      <td>0.018365</td>\n",
              "    </tr>\n",
              "    <tr>\n",
              "      <th>18</th>\n",
              "      <td>Park_location_EC</td>\n",
              "      <td>0.022946</td>\n",
              "    </tr>\n",
              "    <tr>\n",
              "      <th>19</th>\n",
              "      <td>Park_location_HS</td>\n",
              "      <td>0.038151</td>\n",
              "    </tr>\n",
              "    <tr>\n",
              "      <th>20</th>\n",
              "      <td>Park_location_MK</td>\n",
              "      <td>0.026660</td>\n",
              "    </tr>\n",
              "    <tr>\n",
              "      <th>21</th>\n",
              "      <td>Park_area_Adventureland</td>\n",
              "      <td>0.010807</td>\n",
              "    </tr>\n",
              "    <tr>\n",
              "      <th>22</th>\n",
              "      <td>Park_area_Africa</td>\n",
              "      <td>0.018118</td>\n",
              "    </tr>\n",
              "    <tr>\n",
              "      <th>23</th>\n",
              "      <td>Park_area_Asia</td>\n",
              "      <td>0.011479</td>\n",
              "    </tr>\n",
              "    <tr>\n",
              "      <th>24</th>\n",
              "      <td>Park_area_Dinoland USA</td>\n",
              "      <td>0.054857</td>\n",
              "    </tr>\n",
              "    <tr>\n",
              "      <th>25</th>\n",
              "      <td>Park_area_Echo Lake</td>\n",
              "      <td>0.002771</td>\n",
              "    </tr>\n",
              "    <tr>\n",
              "      <th>26</th>\n",
              "      <td>Park_area_Fantasyland</td>\n",
              "      <td>0.026214</td>\n",
              "    </tr>\n",
              "    <tr>\n",
              "      <th>27</th>\n",
              "      <td>Park_area_Frontierland</td>\n",
              "      <td>0.004308</td>\n",
              "    </tr>\n",
              "    <tr>\n",
              "      <th>28</th>\n",
              "      <td>Park_area_Future World</td>\n",
              "      <td>0.007739</td>\n",
              "    </tr>\n",
              "    <tr>\n",
              "      <th>29</th>\n",
              "      <td>Park_area_Liberty Square</td>\n",
              "      <td>0.015460</td>\n",
              "    </tr>\n",
              "    <tr>\n",
              "      <th>30</th>\n",
              "      <td>Park_area_Main Street USA</td>\n",
              "      <td>0.000968</td>\n",
              "    </tr>\n",
              "    <tr>\n",
              "      <th>31</th>\n",
              "      <td>Park_area_Pandora</td>\n",
              "      <td>0.008385</td>\n",
              "    </tr>\n",
              "    <tr>\n",
              "      <th>32</th>\n",
              "      <td>Park_area_Sunset Boulevard</td>\n",
              "      <td>0.007867</td>\n",
              "    </tr>\n",
              "    <tr>\n",
              "      <th>33</th>\n",
              "      <td>Park_area_Tomorrowland</td>\n",
              "      <td>0.010275</td>\n",
              "    </tr>\n",
              "    <tr>\n",
              "      <th>34</th>\n",
              "      <td>Park_area_Toy Story Land</td>\n",
              "      <td>0.010073</td>\n",
              "    </tr>\n",
              "    <tr>\n",
              "      <th>35</th>\n",
              "      <td>Park_area_World Showcase</td>\n",
              "      <td>0.011203</td>\n",
              "    </tr>\n",
              "  </tbody>\n",
              "</table>\n",
              "</div>"
            ],
            "text/plain": [
              "                       Feature  Importance\n",
              "0             Ride_type_thrill    0.045716\n",
              "1           Ride_type_spinning    0.047173\n",
              "2               Ride_type_slow    0.076324\n",
              "3        Ride_type_small_drops    0.016624\n",
              "4          Ride_type_big_drops    0.012314\n",
              "5               Ride_type_dark    0.030654\n",
              "6              Ride_type_scary    0.013683\n",
              "7              Ride_type_water    0.007818\n",
              "8                    Fast_pass    0.031573\n",
              "9                      Classic    0.032456\n",
              "10   Age_interest_preschoolers    0.063085\n",
              "11         Age_interest_tweens    0.000000\n",
              "12          Age_interest_teens    0.000000\n",
              "13         Age_interest_adults    0.000000\n",
              "14           Height_req_inches    0.087727\n",
              "15           Ride_duration_min    0.118462\n",
              "16           Age_of_ride_years    0.109745\n",
              "17            Park_location_AK    0.018365\n",
              "18            Park_location_EC    0.022946\n",
              "19            Park_location_HS    0.038151\n",
              "20            Park_location_MK    0.026660\n",
              "21     Park_area_Adventureland    0.010807\n",
              "22            Park_area_Africa    0.018118\n",
              "23              Park_area_Asia    0.011479\n",
              "24      Park_area_Dinoland USA    0.054857\n",
              "25         Park_area_Echo Lake    0.002771\n",
              "26       Park_area_Fantasyland    0.026214\n",
              "27      Park_area_Frontierland    0.004308\n",
              "28      Park_area_Future World    0.007739\n",
              "29    Park_area_Liberty Square    0.015460\n",
              "30   Park_area_Main Street USA    0.000968\n",
              "31           Park_area_Pandora    0.008385\n",
              "32  Park_area_Sunset Boulevard    0.007867\n",
              "33      Park_area_Tomorrowland    0.010275\n",
              "34    Park_area_Toy Story Land    0.010073\n",
              "35    Park_area_World Showcase    0.011203"
            ]
          },
          "metadata": {},
          "execution_count": 194
        }
      ]
    },
    {
      "cell_type": "code",
      "metadata": {
        "colab": {
          "base_uri": "https://localhost:8080/",
          "height": 175
        },
        "id": "e3xSvnYkWpsk",
        "outputId": "cff3466e-ace5-401c-a317-7770ddeb94e1"
      },
      "source": [
        "ages_importances = feature_importances[(feature_importances['Feature'] == 'Age_interest_preschoolers') | (feature_importances['Feature'] =='Age_interest_tweens') | (feature_importances['Feature'] =='Age_interest_teens') | (feature_importances['Feature'] =='Age_interest_adults')]\n",
        "ages_importances"
      ],
      "execution_count": 195,
      "outputs": [
        {
          "output_type": "execute_result",
          "data": {
            "text/html": [
              "<div>\n",
              "<style scoped>\n",
              "    .dataframe tbody tr th:only-of-type {\n",
              "        vertical-align: middle;\n",
              "    }\n",
              "\n",
              "    .dataframe tbody tr th {\n",
              "        vertical-align: top;\n",
              "    }\n",
              "\n",
              "    .dataframe thead th {\n",
              "        text-align: right;\n",
              "    }\n",
              "</style>\n",
              "<table border=\"1\" class=\"dataframe\">\n",
              "  <thead>\n",
              "    <tr style=\"text-align: right;\">\n",
              "      <th></th>\n",
              "      <th>Feature</th>\n",
              "      <th>Importance</th>\n",
              "    </tr>\n",
              "  </thead>\n",
              "  <tbody>\n",
              "    <tr>\n",
              "      <th>10</th>\n",
              "      <td>Age_interest_preschoolers</td>\n",
              "      <td>0.063085</td>\n",
              "    </tr>\n",
              "    <tr>\n",
              "      <th>11</th>\n",
              "      <td>Age_interest_tweens</td>\n",
              "      <td>0.000000</td>\n",
              "    </tr>\n",
              "    <tr>\n",
              "      <th>12</th>\n",
              "      <td>Age_interest_teens</td>\n",
              "      <td>0.000000</td>\n",
              "    </tr>\n",
              "    <tr>\n",
              "      <th>13</th>\n",
              "      <td>Age_interest_adults</td>\n",
              "      <td>0.000000</td>\n",
              "    </tr>\n",
              "  </tbody>\n",
              "</table>\n",
              "</div>"
            ],
            "text/plain": [
              "                      Feature  Importance\n",
              "10  Age_interest_preschoolers    0.063085\n",
              "11        Age_interest_tweens    0.000000\n",
              "12         Age_interest_teens    0.000000\n",
              "13        Age_interest_adults    0.000000"
            ]
          },
          "metadata": {},
          "execution_count": 195
        }
      ]
    },
    {
      "cell_type": "code",
      "metadata": {
        "colab": {
          "base_uri": "https://localhost:8080/"
        },
        "id": "ap9J-4a0YJfo",
        "outputId": "f24fed8f-f571-49ed-bc7d-e051429978ca"
      },
      "source": [
        "age_sum = ages_importances.sum()\n",
        "print('Total of Importance Scores for Age Interests:',age_sum)\n",
        "print('Percent of \"Importance\" that Age_interests have:', (0.063085*100))\n",
        "print(feature_importances.shape)"
      ],
      "execution_count": 198,
      "outputs": [
        {
          "output_type": "stream",
          "name": "stdout",
          "text": [
            "Total of Importance Scores for Age Interests: Feature       Age_interest_preschoolersAge_interest_tweensAg...\n",
            "Importance                                            0.0630851\n",
            "dtype: object\n",
            "Percent of \"Importance\" that Age_interests have: 6.3085\n",
            "(36, 2)\n"
          ]
        }
      ]
    },
    {
      "cell_type": "markdown",
      "metadata": {
        "id": "WVeAfppdTVOJ"
      },
      "source": [
        "# Which Model/Dataframe to further tune\n",
        "\n",
        "The two data frames perform similarly; exactly the same on all models except KNN. Continuing on my look into the importance of the age_interest columns, I was able to see how much weight these columns had on our RF model.\n",
        "\n",
        "The only age interest that has importance to the model is the preschoolers. That singular column, makes up about 6% of the importance values, when 1 column linearly would make up about 3% (1/36). It is double as important as we would expect with a baseline.\n",
        "\n",
        "Going forward, I will choose to blend these dataframes and remove all the columns with zero importances (tweens, teens, and adults, keeping preschoolers)."
      ]
    },
    {
      "cell_type": "markdown",
      "metadata": {
        "id": "L3Kuk5LoJFjC"
      },
      "source": [
        "## Combined Dataframe model"
      ]
    },
    {
      "cell_type": "code",
      "metadata": {
        "colab": {
          "base_uri": "https://localhost:8080/",
          "height": 481
        },
        "id": "hpOC-1fuJIN-",
        "outputId": "a0cc1620-6cd6-4911-b0b9-76558cfd5755"
      },
      "source": [
        "df2 = df.drop(columns=['Age_interest_tweens','Age_interest_teens','Age_interest_adults']) # remove the columns that have \"zero importance\"\n",
        "df2.head()"
      ],
      "execution_count": 266,
      "outputs": [
        {
          "output_type": "execute_result",
          "data": {
            "text/html": [
              "<div>\n",
              "<style scoped>\n",
              "    .dataframe tbody tr th:only-of-type {\n",
              "        vertical-align: middle;\n",
              "    }\n",
              "\n",
              "    .dataframe tbody tr th {\n",
              "        vertical-align: top;\n",
              "    }\n",
              "\n",
              "    .dataframe thead th {\n",
              "        text-align: right;\n",
              "    }\n",
              "</style>\n",
              "<table border=\"1\" class=\"dataframe\">\n",
              "  <thead>\n",
              "    <tr style=\"text-align: right;\">\n",
              "      <th></th>\n",
              "      <th>Ride_type_thrill</th>\n",
              "      <th>Ride_type_spinning</th>\n",
              "      <th>Ride_type_slow</th>\n",
              "      <th>Ride_type_small_drops</th>\n",
              "      <th>Ride_type_big_drops</th>\n",
              "      <th>Ride_type_dark</th>\n",
              "      <th>Ride_type_scary</th>\n",
              "      <th>Ride_type_water</th>\n",
              "      <th>Fast_pass</th>\n",
              "      <th>Classic</th>\n",
              "      <th>Age_interest_preschoolers</th>\n",
              "      <th>Height_req_inches</th>\n",
              "      <th>Ride_duration_min</th>\n",
              "      <th>Age_of_ride_years</th>\n",
              "      <th>TA_Stars</th>\n",
              "      <th>Park_location_AK</th>\n",
              "      <th>Park_location_EC</th>\n",
              "      <th>Park_location_HS</th>\n",
              "      <th>Park_location_MK</th>\n",
              "      <th>Park_area_Adventureland</th>\n",
              "      <th>Park_area_Africa</th>\n",
              "      <th>Park_area_Asia</th>\n",
              "      <th>Park_area_Dinoland USA</th>\n",
              "      <th>Park_area_Echo Lake</th>\n",
              "      <th>Park_area_Fantasyland</th>\n",
              "      <th>Park_area_Frontierland</th>\n",
              "      <th>Park_area_Future World</th>\n",
              "      <th>Park_area_Liberty Square</th>\n",
              "      <th>Park_area_Main Street USA</th>\n",
              "      <th>Park_area_Pandora</th>\n",
              "      <th>Park_area_Sunset Boulevard</th>\n",
              "      <th>Park_area_Tomorrowland</th>\n",
              "      <th>Park_area_Toy Story Land</th>\n",
              "      <th>Park_area_World Showcase</th>\n",
              "    </tr>\n",
              "    <tr>\n",
              "      <th>Ride_name</th>\n",
              "      <th></th>\n",
              "      <th></th>\n",
              "      <th></th>\n",
              "      <th></th>\n",
              "      <th></th>\n",
              "      <th></th>\n",
              "      <th></th>\n",
              "      <th></th>\n",
              "      <th></th>\n",
              "      <th></th>\n",
              "      <th></th>\n",
              "      <th></th>\n",
              "      <th></th>\n",
              "      <th></th>\n",
              "      <th></th>\n",
              "      <th></th>\n",
              "      <th></th>\n",
              "      <th></th>\n",
              "      <th></th>\n",
              "      <th></th>\n",
              "      <th></th>\n",
              "      <th></th>\n",
              "      <th></th>\n",
              "      <th></th>\n",
              "      <th></th>\n",
              "      <th></th>\n",
              "      <th></th>\n",
              "      <th></th>\n",
              "      <th></th>\n",
              "      <th></th>\n",
              "      <th></th>\n",
              "      <th></th>\n",
              "      <th></th>\n",
              "      <th></th>\n",
              "    </tr>\n",
              "  </thead>\n",
              "  <tbody>\n",
              "    <tr>\n",
              "      <th>Alien Swirling Saucers</th>\n",
              "      <td>0</td>\n",
              "      <td>1</td>\n",
              "      <td>0</td>\n",
              "      <td>0</td>\n",
              "      <td>0</td>\n",
              "      <td>0</td>\n",
              "      <td>0</td>\n",
              "      <td>0</td>\n",
              "      <td>1</td>\n",
              "      <td>0</td>\n",
              "      <td>1</td>\n",
              "      <td>32</td>\n",
              "      <td>1.5</td>\n",
              "      <td>4.314168</td>\n",
              "      <td>0</td>\n",
              "      <td>0</td>\n",
              "      <td>0</td>\n",
              "      <td>1</td>\n",
              "      <td>0</td>\n",
              "      <td>0</td>\n",
              "      <td>0</td>\n",
              "      <td>0</td>\n",
              "      <td>0</td>\n",
              "      <td>0</td>\n",
              "      <td>0</td>\n",
              "      <td>0</td>\n",
              "      <td>0</td>\n",
              "      <td>0</td>\n",
              "      <td>0</td>\n",
              "      <td>0</td>\n",
              "      <td>0</td>\n",
              "      <td>0</td>\n",
              "      <td>1</td>\n",
              "      <td>0</td>\n",
              "    </tr>\n",
              "    <tr>\n",
              "      <th>Astro Orbiter</th>\n",
              "      <td>0</td>\n",
              "      <td>1</td>\n",
              "      <td>1</td>\n",
              "      <td>0</td>\n",
              "      <td>0</td>\n",
              "      <td>0</td>\n",
              "      <td>0</td>\n",
              "      <td>0</td>\n",
              "      <td>0</td>\n",
              "      <td>1</td>\n",
              "      <td>1</td>\n",
              "      <td>0</td>\n",
              "      <td>1.5</td>\n",
              "      <td>27.657084</td>\n",
              "      <td>0</td>\n",
              "      <td>0</td>\n",
              "      <td>0</td>\n",
              "      <td>0</td>\n",
              "      <td>1</td>\n",
              "      <td>0</td>\n",
              "      <td>0</td>\n",
              "      <td>0</td>\n",
              "      <td>0</td>\n",
              "      <td>0</td>\n",
              "      <td>0</td>\n",
              "      <td>0</td>\n",
              "      <td>0</td>\n",
              "      <td>0</td>\n",
              "      <td>0</td>\n",
              "      <td>0</td>\n",
              "      <td>0</td>\n",
              "      <td>1</td>\n",
              "      <td>0</td>\n",
              "      <td>0</td>\n",
              "    </tr>\n",
              "    <tr>\n",
              "      <th>Avatar Flight of Passage</th>\n",
              "      <td>1</td>\n",
              "      <td>0</td>\n",
              "      <td>0</td>\n",
              "      <td>0</td>\n",
              "      <td>0</td>\n",
              "      <td>0</td>\n",
              "      <td>0</td>\n",
              "      <td>0</td>\n",
              "      <td>1</td>\n",
              "      <td>0</td>\n",
              "      <td>0</td>\n",
              "      <td>44</td>\n",
              "      <td>5.0</td>\n",
              "      <td>5.406571</td>\n",
              "      <td>1</td>\n",
              "      <td>1</td>\n",
              "      <td>0</td>\n",
              "      <td>0</td>\n",
              "      <td>0</td>\n",
              "      <td>0</td>\n",
              "      <td>0</td>\n",
              "      <td>0</td>\n",
              "      <td>0</td>\n",
              "      <td>0</td>\n",
              "      <td>0</td>\n",
              "      <td>0</td>\n",
              "      <td>0</td>\n",
              "      <td>0</td>\n",
              "      <td>0</td>\n",
              "      <td>1</td>\n",
              "      <td>0</td>\n",
              "      <td>0</td>\n",
              "      <td>0</td>\n",
              "      <td>0</td>\n",
              "    </tr>\n",
              "    <tr>\n",
              "      <th>Big Thunder Mountain Railroad</th>\n",
              "      <td>1</td>\n",
              "      <td>0</td>\n",
              "      <td>0</td>\n",
              "      <td>1</td>\n",
              "      <td>0</td>\n",
              "      <td>0</td>\n",
              "      <td>0</td>\n",
              "      <td>0</td>\n",
              "      <td>1</td>\n",
              "      <td>1</td>\n",
              "      <td>0</td>\n",
              "      <td>40</td>\n",
              "      <td>3.5</td>\n",
              "      <td>42.080082</td>\n",
              "      <td>1</td>\n",
              "      <td>0</td>\n",
              "      <td>0</td>\n",
              "      <td>0</td>\n",
              "      <td>1</td>\n",
              "      <td>0</td>\n",
              "      <td>0</td>\n",
              "      <td>0</td>\n",
              "      <td>0</td>\n",
              "      <td>0</td>\n",
              "      <td>0</td>\n",
              "      <td>1</td>\n",
              "      <td>0</td>\n",
              "      <td>0</td>\n",
              "      <td>0</td>\n",
              "      <td>0</td>\n",
              "      <td>0</td>\n",
              "      <td>0</td>\n",
              "      <td>0</td>\n",
              "      <td>0</td>\n",
              "    </tr>\n",
              "    <tr>\n",
              "      <th>Buzz Lightyear's Space Ranger Spin</th>\n",
              "      <td>0</td>\n",
              "      <td>1</td>\n",
              "      <td>1</td>\n",
              "      <td>0</td>\n",
              "      <td>0</td>\n",
              "      <td>0</td>\n",
              "      <td>0</td>\n",
              "      <td>0</td>\n",
              "      <td>1</td>\n",
              "      <td>0</td>\n",
              "      <td>1</td>\n",
              "      <td>0</td>\n",
              "      <td>4.0</td>\n",
              "      <td>24.043121</td>\n",
              "      <td>1</td>\n",
              "      <td>0</td>\n",
              "      <td>0</td>\n",
              "      <td>0</td>\n",
              "      <td>1</td>\n",
              "      <td>0</td>\n",
              "      <td>0</td>\n",
              "      <td>0</td>\n",
              "      <td>0</td>\n",
              "      <td>0</td>\n",
              "      <td>0</td>\n",
              "      <td>0</td>\n",
              "      <td>0</td>\n",
              "      <td>0</td>\n",
              "      <td>0</td>\n",
              "      <td>0</td>\n",
              "      <td>0</td>\n",
              "      <td>1</td>\n",
              "      <td>0</td>\n",
              "      <td>0</td>\n",
              "    </tr>\n",
              "  </tbody>\n",
              "</table>\n",
              "</div>"
            ],
            "text/plain": [
              "                                    Ride_type_thrill  ...  Park_area_World Showcase\n",
              "Ride_name                                             ...                          \n",
              "Alien Swirling Saucers                             0  ...                         0\n",
              "Astro Orbiter                                      0  ...                         0\n",
              "Avatar Flight of Passage                           1  ...                         0\n",
              "Big Thunder Mountain Railroad                      1  ...                         0\n",
              "Buzz Lightyear's Space Ranger Spin                 0  ...                         0\n",
              "\n",
              "[5 rows x 34 columns]"
            ]
          },
          "metadata": {},
          "execution_count": 266
        }
      ]
    },
    {
      "cell_type": "code",
      "metadata": {
        "colab": {
          "base_uri": "https://localhost:8080/"
        },
        "id": "koSMakbtJESO",
        "outputId": "821a64af-6911-47ff-8c2a-205849142eb4"
      },
      "source": [
        "df2.shape"
      ],
      "execution_count": 267,
      "outputs": [
        {
          "output_type": "execute_result",
          "data": {
            "text/plain": [
              "(44, 34)"
            ]
          },
          "metadata": {},
          "execution_count": 267
        }
      ]
    },
    {
      "cell_type": "code",
      "metadata": {
        "id": "ZnJ3ACL6vUTO"
      },
      "source": [
        "#download into a csv\n",
        "df2.to_csv('/content/drive/MyDrive/Coding Dojo/Project 2/WDW_Model_DF.csv')"
      ],
      "execution_count": 268,
      "outputs": []
    },
    {
      "cell_type": "code",
      "metadata": {
        "id": "Kl-bv9SNKwIC"
      },
      "source": [
        "X = df2.drop(columns= 'TA_Stars')\n",
        "y = df2['TA_Stars']\n",
        "X_train, X_test, y_train, y_test = train_test_split(X, y, test_size=0.33, random_state=42, stratify = y)\n",
        "#i also decided to use a 33% split rather than 25%"
      ],
      "execution_count": 269,
      "outputs": []
    },
    {
      "cell_type": "code",
      "metadata": {
        "colab": {
          "base_uri": "https://localhost:8080/"
        },
        "id": "KbrKawo6KwIH",
        "outputId": "01156f14-05c8-4ff6-87b8-495b9f8b05a0"
      },
      "source": [
        "unique, counts = np.unique(y_test, return_counts=True)\n",
        "print('Counts of each class in Test:', dict(zip(unique, counts)))\n",
        "unique, counts = np.unique(y_train, return_counts=True)\n",
        "print('Counts of each class in Training:', dict(zip(unique, counts))) #splits are the same still"
      ],
      "execution_count": 270,
      "outputs": [
        {
          "output_type": "stream",
          "name": "stdout",
          "text": [
            "Counts of each class in Test: {0: 8, 1: 7}\n",
            "Counts of each class in Training: {0: 14, 1: 15}\n"
          ]
        }
      ]
    },
    {
      "cell_type": "code",
      "metadata": {
        "colab": {
          "base_uri": "https://localhost:8080/"
        },
        "id": "ju1JadUiKwII",
        "outputId": "79bb4fad-cdba-402f-a926-3cb09fc4dcb9"
      },
      "source": [
        "%%time\n",
        "#running same things as before for comparison\n",
        "rf = RandomForestClassifier(random_state=42)\n",
        "rfpipe2 = make_pipeline(rf) \n",
        "rfpipe2.fit(X_train, y_train)\n",
        "\n",
        "knn = KNeighborsClassifier()\n",
        "knnpipe2 = make_pipeline(StandardScaler(), knn)\n",
        "knnpipe2.fit(X_train, y_train)\n",
        "\n",
        "xgb2 = make_pipeline(StandardScaler(), XGBClassifier())\n",
        "xgb2.fit(X_train, y_train)\n",
        "\n",
        "lgb2 = make_pipeline(StandardScaler(), LGBMClassifier())\n",
        "lgb2.fit(X_train, y_train)\n",
        "\n",
        "gbc2 = make_pipeline(StandardScaler(), GradientBoostingClassifier())\n",
        "gbc2.fit(X_train, y_train)\n",
        "\n",
        "lr = LogisticRegression(random_state=42) \n",
        "lrpipe2 = make_pipeline(StandardScaler(), lr)\n",
        "lrpipe2.fit(X_train, y_train)\n",
        "\n",
        "\n",
        "print('Random Forest Train Accuracy:', rfpipe2.score(X_train, y_train))\n",
        "print('Random ForestTest Accuracy:', rfpipe2.score(X_test, y_test))\n",
        "print('____________________________________')\n",
        "print('KNN Train Accuracy:', knnpipe2.score(X_train, y_train))\n",
        "print('KNN Test Accuracy:', knnpipe2.score(X_test, y_test))\n",
        "print('____________________________________')\n",
        "print('XGB Training accuracy:', xgb2.score(X_train, y_train))\n",
        "print('XGB Testing accuracy:', xgb2.score(X_test, y_test))\n",
        "print('____________________________________')\n",
        "print('LGB Regression Train Accuracy:', lgb2.score(X_train, y_train))\n",
        "print('LGB Regression Test Accuracy:', lgb2.score(X_test, y_test))\n",
        "print('____________________________________')\n",
        "print('GBC Regression Train Accuracy:', gbc2.score(X_train, y_train))\n",
        "print('GBC Regression Test Accuracy:', gbc2.score(X_test, y_test))\n",
        "print('____________________________________')\n",
        "print('Logistic Regression Train Accuracy:', lrpipe2.score(X_train, y_train))\n",
        "print('Logistic Regression Test Accuracy:', lrpipe2.score(X_test, y_test))"
      ],
      "execution_count": 271,
      "outputs": [
        {
          "output_type": "stream",
          "name": "stdout",
          "text": [
            "Random Forest Train Accuracy: 1.0\n",
            "Random ForestTest Accuracy: 0.7333333333333333\n",
            "____________________________________\n",
            "KNN Train Accuracy: 0.6896551724137931\n",
            "KNN Test Accuracy: 0.6666666666666666\n",
            "____________________________________\n",
            "XGB Training accuracy: 0.9310344827586207\n",
            "XGB Testing accuracy: 0.7333333333333333\n",
            "____________________________________\n",
            "LGB Regression Train Accuracy: 0.5172413793103449\n",
            "LGB Regression Test Accuracy: 0.4666666666666667\n",
            "____________________________________\n",
            "GBC Regression Train Accuracy: 1.0\n",
            "GBC Regression Test Accuracy: 0.6666666666666666\n",
            "____________________________________\n",
            "Logistic Regression Train Accuracy: 0.9655172413793104\n",
            "Logistic Regression Test Accuracy: 0.6666666666666666\n",
            "CPU times: user 298 ms, sys: 8.07 ms, total: 306 ms\n",
            "Wall time: 306 ms\n"
          ]
        }
      ]
    },
    {
      "cell_type": "markdown",
      "metadata": {
        "id": "qvai2vgvKwII"
      },
      "source": [
        "Similar to the above but GBC is improved."
      ]
    },
    {
      "cell_type": "code",
      "metadata": {
        "colab": {
          "base_uri": "https://localhost:8080/"
        },
        "id": "FmriWfMBKwII",
        "outputId": "24198c18-837c-459a-b8f8-c8ec037c5bc8"
      },
      "source": [
        "%%time\n",
        "soft_vote2 = VotingClassifier(estimators = [('xgb', xgb2), ('gbc', gbc), ('lr', lrpipe2),('rf', rfpipe2)], voting = 'soft') #knn and lgb left out as they do not perform up to speed\n",
        "soft_vote2.fit(X_train, y_train)\n",
        "print('Combined Models Training Accuracy:', accuracy_score(y_train, soft_vote2.predict(X_train)))\n",
        "print('Combined Models Testing Accuracy:', accuracy_score(y_test, soft_vote2.predict(X_test)))"
      ],
      "execution_count": 272,
      "outputs": [
        {
          "output_type": "stream",
          "name": "stdout",
          "text": [
            "Combined Models Training Accuracy: 1.0\n",
            "Combined Models Testing Accuracy: 0.7333333333333333\n",
            "CPU times: user 251 ms, sys: 5.02 ms, total: 256 ms\n",
            "Wall time: 255 ms\n"
          ]
        }
      ]
    },
    {
      "cell_type": "markdown",
      "metadata": {
        "id": "WPnJB8TFxmdc"
      },
      "source": [
        "Training improves from before, testing is the same. Seems to match Random Forests."
      ]
    },
    {
      "cell_type": "code",
      "metadata": {
        "colab": {
          "base_uri": "https://localhost:8080/"
        },
        "id": "70SvYy7WKwIJ",
        "outputId": "07bb0f3b-f745-48d8-bb9a-414012d4029c"
      },
      "source": [
        "#classification report\n",
        "y_pred = soft_vote2.predict(X_test)\n",
        "print('Classification Report For Soft Vote')\n",
        "print(metrics.classification_report(y_test, y_pred))"
      ],
      "execution_count": 273,
      "outputs": [
        {
          "output_type": "stream",
          "name": "stdout",
          "text": [
            "Classification Report For Soft Vote\n",
            "              precision    recall  f1-score   support\n",
            "\n",
            "           0       0.70      0.88      0.78         8\n",
            "           1       0.80      0.57      0.67         7\n",
            "\n",
            "    accuracy                           0.73        15\n",
            "   macro avg       0.75      0.72      0.72        15\n",
            "weighted avg       0.75      0.73      0.73        15\n",
            "\n"
          ]
        }
      ]
    },
    {
      "cell_type": "code",
      "metadata": {
        "colab": {
          "base_uri": "https://localhost:8080/"
        },
        "id": "_Q3HG2zqKwIJ",
        "outputId": "19de2ebd-bb02-42e8-bb5f-8379a59aa4fd"
      },
      "source": [
        "#see if it matches RF\n",
        "y_pred = rfpipe2.predict(X_test)\n",
        "print('Classification Report for RF')\n",
        "print(metrics.classification_report(y_test, y_pred))\n",
        "#it is the same"
      ],
      "execution_count": 274,
      "outputs": [
        {
          "output_type": "stream",
          "name": "stdout",
          "text": [
            "Classification Report for RF\n",
            "              precision    recall  f1-score   support\n",
            "\n",
            "           0       0.70      0.88      0.78         8\n",
            "           1       0.80      0.57      0.67         7\n",
            "\n",
            "    accuracy                           0.73        15\n",
            "   macro avg       0.75      0.72      0.72        15\n",
            "weighted avg       0.75      0.73      0.73        15\n",
            "\n"
          ]
        }
      ]
    },
    {
      "cell_type": "code",
      "metadata": {
        "colab": {
          "base_uri": "https://localhost:8080/",
          "height": 574
        },
        "id": "Qr84hlH5KwIJ",
        "outputId": "84fa6f54-7327-4aae-e00d-c1c51482a646"
      },
      "source": [
        "#new importances, all should be > 0 now\n",
        "rf_features = pd.DataFrame({'feature': X_train.columns, 'feature_importance': rf.feature_importances_})\n",
        "rf_features.sort_values(by = 'feature_importance', inplace = True)\n",
        "\n",
        "plt.figure(figsize = (12, 9))\n",
        "plt.barh(rf_features['feature'], rf_features['feature_importance'])\n",
        "plt.xlabel('Importance Score', fontsize = 13)\n",
        "plt.xticks(fontsize = 12)\n",
        "plt.ylabel('Features', fontsize = 13)\n",
        "plt.yticks(fontsize = 12)\n",
        "plt.title('Feature Importances in our model', fontsize = 14);"
      ],
      "execution_count": 275,
      "outputs": [
        {
          "output_type": "display_data",
          "data": {
            "image/png": "[encoded data removed]",
            "text/plain": [
              "<Figure size 864x648 with 1 Axes>"
            ]
          },
          "metadata": {
            "needs_background": "light"
          }
        }
      ]
    },
    {
      "cell_type": "markdown",
      "metadata": {
        "id": "HGHxThOXtz_H"
      },
      "source": [
        "# ML Tuning"
      ]
    },
    {
      "cell_type": "markdown",
      "metadata": {
        "id": "aEf0UezUyOjE"
      },
      "source": [
        "The top two models were XGB and Random Forests, I will continue on with those models for hyperparameter tuning."
      ]
    },
    {
      "cell_type": "code",
      "metadata": {
        "colab": {
          "base_uri": "https://localhost:8080/"
        },
        "id": "3k91kMavdBzx",
        "outputId": "e64afc50-330f-4e9b-b859-c00b61686a11"
      },
      "source": [
        "rfpipe2.get_params()"
      ],
      "execution_count": 276,
      "outputs": [
        {
          "output_type": "execute_result",
          "data": {
            "text/plain": [
              "{'memory': None,\n",
              " 'randomforestclassifier': RandomForestClassifier(bootstrap=True, ccp_alpha=0.0, class_weight=None,\n",
              "                        criterion='gini', max_depth=None, max_features='auto',\n",
              "                        max_leaf_nodes=None, max_samples=None,\n",
              "                        min_impurity_decrease=0.0, min_impurity_split=None,\n",
              "                        min_samples_leaf=1, min_samples_split=2,\n",
              "                        min_weight_fraction_leaf=0.0, n_estimators=100,\n",
              "                        n_jobs=None, oob_score=False, random_state=42, verbose=0,\n",
              "                        warm_start=False),\n",
              " 'randomforestclassifier__bootstrap': True,\n",
              " 'randomforestclassifier__ccp_alpha': 0.0,\n",
              " 'randomforestclassifier__class_weight': None,\n",
              " 'randomforestclassifier__criterion': 'gini',\n",
              " 'randomforestclassifier__max_depth': None,\n",
              " 'randomforestclassifier__max_features': 'auto',\n",
              " 'randomforestclassifier__max_leaf_nodes': None,\n",
              " 'randomforestclassifier__max_samples': None,\n",
              " 'randomforestclassifier__min_impurity_decrease': 0.0,\n",
              " 'randomforestclassifier__min_impurity_split': None,\n",
              " 'randomforestclassifier__min_samples_leaf': 1,\n",
              " 'randomforestclassifier__min_samples_split': 2,\n",
              " 'randomforestclassifier__min_weight_fraction_leaf': 0.0,\n",
              " 'randomforestclassifier__n_estimators': 100,\n",
              " 'randomforestclassifier__n_jobs': None,\n",
              " 'randomforestclassifier__oob_score': False,\n",
              " 'randomforestclassifier__random_state': 42,\n",
              " 'randomforestclassifier__verbose': 0,\n",
              " 'randomforestclassifier__warm_start': False,\n",
              " 'steps': [('randomforestclassifier',\n",
              "   RandomForestClassifier(bootstrap=True, ccp_alpha=0.0, class_weight=None,\n",
              "                          criterion='gini', max_depth=None, max_features='auto',\n",
              "                          max_leaf_nodes=None, max_samples=None,\n",
              "                          min_impurity_decrease=0.0, min_impurity_split=None,\n",
              "                          min_samples_leaf=1, min_samples_split=2,\n",
              "                          min_weight_fraction_leaf=0.0, n_estimators=100,\n",
              "                          n_jobs=None, oob_score=False, random_state=42, verbose=0,\n",
              "                          warm_start=False))],\n",
              " 'verbose': False}"
            ]
          },
          "metadata": {},
          "execution_count": 276
        }
      ]
    },
    {
      "cell_type": "code",
      "metadata": {
        "colab": {
          "base_uri": "https://localhost:8080/"
        },
        "id": "OORjdsb1WRsv",
        "outputId": "749d0ef9-1d20-454d-9485-5da1a4cf7b91"
      },
      "source": [
        "xgb2.get_params()"
      ],
      "execution_count": 277,
      "outputs": [
        {
          "output_type": "execute_result",
          "data": {
            "text/plain": [
              "{'memory': None,\n",
              " 'standardscaler': StandardScaler(copy=True, with_mean=True, with_std=True),\n",
              " 'standardscaler__copy': True,\n",
              " 'standardscaler__with_mean': True,\n",
              " 'standardscaler__with_std': True,\n",
              " 'steps': [('standardscaler',\n",
              "   StandardScaler(copy=True, with_mean=True, with_std=True)),\n",
              "  ('xgbclassifier',\n",
              "   XGBClassifier(base_score=0.5, booster='gbtree', colsample_bylevel=1,\n",
              "                 colsample_bynode=1, colsample_bytree=1, gamma=0,\n",
              "                 learning_rate=0.1, max_delta_step=0, max_depth=3,\n",
              "                 min_child_weight=1, missing=None, n_estimators=100, n_jobs=1,\n",
              "                 nthread=None, objective='binary:logistic', random_state=0,\n",
              "                 reg_alpha=0, reg_lambda=1, scale_pos_weight=1, seed=None,\n",
              "                 silent=None, subsample=1, verbosity=1))],\n",
              " 'verbose': False,\n",
              " 'xgbclassifier': XGBClassifier(base_score=0.5, booster='gbtree', colsample_bylevel=1,\n",
              "               colsample_bynode=1, colsample_bytree=1, gamma=0,\n",
              "               learning_rate=0.1, max_delta_step=0, max_depth=3,\n",
              "               min_child_weight=1, missing=None, n_estimators=100, n_jobs=1,\n",
              "               nthread=None, objective='binary:logistic', random_state=0,\n",
              "               reg_alpha=0, reg_lambda=1, scale_pos_weight=1, seed=None,\n",
              "               silent=None, subsample=1, verbosity=1),\n",
              " 'xgbclassifier__base_score': 0.5,\n",
              " 'xgbclassifier__booster': 'gbtree',\n",
              " 'xgbclassifier__colsample_bylevel': 1,\n",
              " 'xgbclassifier__colsample_bynode': 1,\n",
              " 'xgbclassifier__colsample_bytree': 1,\n",
              " 'xgbclassifier__gamma': 0,\n",
              " 'xgbclassifier__learning_rate': 0.1,\n",
              " 'xgbclassifier__max_delta_step': 0,\n",
              " 'xgbclassifier__max_depth': 3,\n",
              " 'xgbclassifier__min_child_weight': 1,\n",
              " 'xgbclassifier__missing': None,\n",
              " 'xgbclassifier__n_estimators': 100,\n",
              " 'xgbclassifier__n_jobs': 1,\n",
              " 'xgbclassifier__nthread': None,\n",
              " 'xgbclassifier__objective': 'binary:logistic',\n",
              " 'xgbclassifier__random_state': 0,\n",
              " 'xgbclassifier__reg_alpha': 0,\n",
              " 'xgbclassifier__reg_lambda': 1,\n",
              " 'xgbclassifier__scale_pos_weight': 1,\n",
              " 'xgbclassifier__seed': None,\n",
              " 'xgbclassifier__silent': None,\n",
              " 'xgbclassifier__subsample': 1,\n",
              " 'xgbclassifier__verbosity': 1}"
            ]
          },
          "metadata": {},
          "execution_count": 277
        }
      ]
    },
    {
      "cell_type": "code",
      "metadata": {
        "colab": {
          "base_uri": "https://localhost:8080/",
          "height": 280
        },
        "id": "JQNV1SZOdSp7",
        "outputId": "80631f42-978f-4807-c9d9-b99052f88e77"
      },
      "source": [
        "#list of values to try for max_depth:\n",
        "max_depth_range = list(range(1,15)) \n",
        "\n",
        "#list to store the scores:\n",
        "accuracy = []\n",
        "for depth in max_depth_range:\n",
        "  rf_depth = RandomForestClassifier(max_depth= depth,\n",
        "                                   random_state = 42)\n",
        "  rf_depth.fit(X_train, y_train)\n",
        "  score = rf_depth.score(X_train, y_train)\n",
        "  accuracy.append(score)\n",
        "import matplotlib.pyplot as plt\n",
        "plt.plot(max_depth_range, accuracy)\n",
        "plt.xlabel('max_depth')\n",
        "plt.grid()\n",
        "plt.ylabel('accuracy');\n",
        "#anything above 8 depth is best accuracy!"
      ],
      "execution_count": 278,
      "outputs": [
        {
          "output_type": "display_data",
          "data": {
            "image/png": "[encoded data removed]",
            "text/plain": [
              "<Figure size 432x288 with 1 Axes>"
            ]
          },
          "metadata": {
            "needs_background": "light"
          }
        }
      ]
    },
    {
      "cell_type": "code",
      "metadata": {
        "colab": {
          "base_uri": "https://localhost:8080/",
          "height": 280
        },
        "id": "OKE43nDHyUkA",
        "outputId": "c9d3944b-147e-4098-e47f-544fe22435c3"
      },
      "source": [
        "#list of values to try for max_depth:\n",
        "max_depth_range = list(range(1,15)) \n",
        "\n",
        "#list to store the scores:\n",
        "accuracy = []\n",
        "for depth in max_depth_range:\n",
        "  xgb_depth = XGBClassifier(max_depth= depth, \n",
        "                            random_state = 42)\n",
        "  xgb_depth.fit(X_train, y_train)\n",
        "  score = xgb_depth.score(X_train, y_train)\n",
        "  accuracy.append(score)\n",
        "import matplotlib.pyplot as plt\n",
        "plt.plot(max_depth_range, accuracy)\n",
        "plt.xlabel('max_depth')\n",
        "plt.grid()\n",
        "plt.ylabel('accuracy');\n",
        "#anything above 2 depth is best accuracy!"
      ],
      "execution_count": 279,
      "outputs": [
        {
          "output_type": "display_data",
          "data": {
            "image/png": "[encoded data removed]",
            "text/plain": [
              "<Figure size 432x288 with 1 Axes>"
            ]
          },
          "metadata": {
            "needs_background": "light"
          }
        }
      ]
    },
    {
      "cell_type": "code",
      "metadata": {
        "colab": {
          "base_uri": "https://localhost:8080/"
        },
        "id": "HyBjrdLUbtoM",
        "outputId": "b8fd19a3-d92e-4e09-9a74-20d1881d1832"
      },
      "source": [
        "%%time\n",
        "xgb_params = {'xgbclassifier__max_depth': [2],\n",
        "              'xgbclassifier__learning_rate': [0.3, 0.5, 1],\n",
        "              'xgbclassifier__subsample': [0.5, 1]\n",
        "              }\n",
        "rf_params = {'randomforestclassifier__max_depth': [8],\n",
        "             'randomforestclassifier__min_samples_split':[2, 5, 10, 15, 100],\n",
        "             'randomforestclassifier__min_samples_leaf': [1, 2, 5, 10], \n",
        "             'randomforestclassifier__n_estimators': [100, 200, 300, 500]\n",
        "             }\n",
        "\n",
        "xgb_gs = GridSearchCV(xgb2, xgb_params)\n",
        "rf_gs = GridSearchCV(rfpipe2, rf_params)\n",
        "\n",
        "GridVote = VotingClassifier(estimators = [('rf', rf_gs), ('xgb', xgb_gs)], voting = 'soft')\n",
        "GridVote.fit(X_train, y_train)\n",
        "print('Combined Models Training Accuracy:', accuracy_score(y_train, GridVote.predict(X_train)))\n",
        "print('Combined Models Testing Accuracy:', accuracy_score(y_test, GridVote.predict(X_test)))"
      ],
      "execution_count": 280,
      "outputs": [
        {
          "output_type": "stream",
          "name": "stdout",
          "text": [
            "Combined Models Training Accuracy: 0.9655172413793104\n",
            "Combined Models Testing Accuracy: 0.7333333333333333\n",
            "CPU times: user 2min 29s, sys: 1.43 s, total: 2min 30s\n",
            "Wall time: 2min 30s\n"
          ]
        }
      ]
    },
    {
      "cell_type": "markdown",
      "metadata": {
        "id": "euPGY4skeK0O"
      },
      "source": [
        "Our first Gridsearch/Voting Classifier (GridVote) does not improve based on accuracy (same)."
      ]
    },
    {
      "cell_type": "code",
      "metadata": {
        "colab": {
          "base_uri": "https://localhost:8080/",
          "height": 955
        },
        "id": "O9XQPGVsz5kf",
        "outputId": "3c4c6ae5-e908-4551-bcf8-173f548ce08d"
      },
      "source": [
        "#confusion matrix with classification report to see\n",
        "plot_confusion_matrix(GridVote, X_test, y_test, cmap = 'Blues')\n",
        "plt.title('First GridSearch')\n",
        "y_pred = GridVote.predict(X_test)\n",
        "print('Classification Report For GridSearch Vote')\n",
        "print(metrics.classification_report(y_test, y_pred))\n",
        "print('Compared to the Pre-GridSearch (Soft Vote)')\n",
        "plot_confusion_matrix(soft_vote2, X_test, y_test, cmap = 'Blues')\n",
        "plt.title('Soft Vote')\n",
        "y_pred = soft_vote2.predict(X_test)\n",
        "print('Classification Report For Soft Vote')\n",
        "print(metrics.classification_report(y_test, y_pred))"
      ],
      "execution_count": 281,
      "outputs": [
        {
          "output_type": "stream",
          "name": "stdout",
          "text": [
            "Classification Report For GridSearch Vote\n",
            "              precision    recall  f1-score   support\n",
            "\n",
            "           0       0.70      0.88      0.78         8\n",
            "           1       0.80      0.57      0.67         7\n",
            "\n",
            "    accuracy                           0.73        15\n",
            "   macro avg       0.75      0.72      0.72        15\n",
            "weighted avg       0.75      0.73      0.73        15\n",
            "\n",
            "Compared to the Pre-GridSearch (Soft Vote)\n",
            "Classification Report For Soft Vote\n",
            "              precision    recall  f1-score   support\n",
            "\n",
            "           0       0.70      0.88      0.78         8\n",
            "           1       0.80      0.57      0.67         7\n",
            "\n",
            "    accuracy                           0.73        15\n",
            "   macro avg       0.75      0.72      0.72        15\n",
            "weighted avg       0.75      0.73      0.73        15\n",
            "\n"
          ]
        },
        {
          "output_type": "display_data",
          "data": {
            "image/png": "[encoded data removed]",
            "text/plain": [
              "<Figure size 432x288 with 2 Axes>"
            ]
          },
          "metadata": {
            "needs_background": "light"
          }
        },
        {
          "output_type": "display_data",
          "data": {
            "image/png": "[encoded data removed]",
            "text/plain": [
              "<Figure size 432x288 with 2 Axes>"
            ]
          },
          "metadata": {
            "needs_background": "light"
          }
        }
      ]
    },
    {
      "cell_type": "markdown",
      "metadata": {
        "id": "g8jmTdG_0UA2"
      },
      "source": [
        "Our model struggles with the true positives, which has been consistent with the datasets."
      ]
    },
    {
      "cell_type": "code",
      "metadata": {
        "colab": {
          "base_uri": "https://localhost:8080/"
        },
        "id": "qIGNOGccy-xL",
        "outputId": "f23d77b0-73a9-4a3f-dad2-e3812aa67ebb"
      },
      "source": [
        "#I wanted to look at them individually\n",
        "xgb_gs.fit(X_train, y_train)\n",
        "print('XGB Training Accuracy:', accuracy_score(y_train, xgb_gs.predict(X_train)))\n",
        "print('XGB Testing Accuracy:', accuracy_score(y_test, xgb_gs.predict(X_test)))\n",
        "print(xgb_gs.best_params_)\n",
        "print('______________________________________')\n",
        "rf_gs.fit(X_train, y_train)\n",
        "print('Random Forests Training Accuracy:', accuracy_score(y_train, rf_gs.predict(X_train)))\n",
        "print('Random Forests Testing Accuracy:', accuracy_score(y_test, rf_gs.predict(X_test)))\n",
        "print(rf_gs.best_params_)\n",
        "print('______________________________________')"
      ],
      "execution_count": 282,
      "outputs": [
        {
          "output_type": "stream",
          "name": "stdout",
          "text": [
            "XGB Training Accuracy: 0.9655172413793104\n",
            "XGB Testing Accuracy: 0.7333333333333333\n",
            "{'xgbclassifier__learning_rate': 0.5, 'xgbclassifier__max_depth': 2, 'xgbclassifier__subsample': 1}\n",
            "______________________________________\n",
            "Random Forests Training Accuracy: 0.7241379310344828\n",
            "Random Forests Testing Accuracy: 0.7333333333333333\n",
            "{'randomforestclassifier__max_depth': 8, 'randomforestclassifier__min_samples_leaf': 5, 'randomforestclassifier__min_samples_split': 2, 'randomforestclassifier__n_estimators': 100}\n",
            "______________________________________\n"
          ]
        }
      ]
    },
    {
      "cell_type": "markdown",
      "metadata": {
        "id": "wZIQYe4EfjyV"
      },
      "source": [
        "* XGB improved its training slightly with GridSearch\n",
        "* Random Forests' Training becomes less overfit (closer to its testing accuracy), but with no improvement to its testing accuracy."
      ]
    },
    {
      "cell_type": "code",
      "metadata": {
        "colab": {
          "base_uri": "https://localhost:8080/"
        },
        "id": "K_stjSJJ1xxm",
        "outputId": "95686408-f46d-473f-adf1-82ad0d5718a3"
      },
      "source": [
        "%%time\n",
        "#trying more parameters around the good ones above\n",
        "xgb2_params = {'xgbclassifier__max_depth': [2],\n",
        "              'xgbclassifier__learning_rate': [0.3, 0.5, 0.7],\n",
        "              'xgbclassifier__subsample': [0.5, 1]\n",
        "              }\n",
        "rf2_params = {'randomforestclassifier__max_depth': [8],\n",
        "             'randomforestclassifier__min_samples_split':[0.9, 2, 3],\n",
        "             'randomforestclassifier__min_samples_leaf': [3, 5, 7], \n",
        "             'randomforestclassifier__n_estimators': [50, 75, 90, 100, 120, 150]\n",
        "             }\n",
        "\n",
        "xgb2_gs = GridSearchCV(xgb2, xgb2_params)\n",
        "rf2_gs = GridSearchCV(rfpipe2, rf2_params)\n",
        "\n",
        "GridVote2 = VotingClassifier(estimators = [('rf', rf2_gs), ('xgb', xgb2_gs)], voting = 'soft')\n",
        "GridVote2.fit(X_train, y_train)\n",
        "print('Combined Models Training Accuracy:', accuracy_score(y_train, GridVote2.predict(X_train)))\n",
        "print('Combined Models Testing Accuracy:', accuracy_score(y_test, GridVote2.predict(X_test)))"
      ],
      "execution_count": 283,
      "outputs": [
        {
          "output_type": "stream",
          "name": "stdout",
          "text": [
            "Combined Models Training Accuracy: 0.9655172413793104\n",
            "Combined Models Testing Accuracy: 0.7333333333333333\n",
            "CPU times: user 37.3 s, sys: 353 ms, total: 37.6 s\n",
            "Wall time: 37.4 s\n"
          ]
        }
      ]
    },
    {
      "cell_type": "markdown",
      "metadata": {
        "id": "qEDHkp8l3Ae6"
      },
      "source": [
        "No changes."
      ]
    },
    {
      "cell_type": "code",
      "metadata": {
        "colab": {
          "base_uri": "https://localhost:8080/"
        },
        "id": "6mxKpsOa6QzZ",
        "outputId": "125cf37c-be70-4787-ea06-7c129e7f5072"
      },
      "source": [
        "xgb2_gs.fit(X_train, y_train)\n",
        "print('XGB Training Accuracy:', accuracy_score(y_train, xgb2_gs.predict(X_train)))\n",
        "print('XGB Testing Accuracy:', accuracy_score(y_test, xgb2_gs.predict(X_test)))\n",
        "print(xgb2_gs.best_params_)\n",
        "print('______________________________________')\n",
        "rf2_gs.fit(X_train, y_train)\n",
        "print('Random Forests Training Accuracy:', accuracy_score(y_train, rf2_gs.predict(X_train)))\n",
        "print('Random Forests Testing Accuracy:', accuracy_score(y_test, rf2_gs.predict(X_test)))\n",
        "print(rf2_gs.best_params_)\n",
        "print('______________________________________')"
      ],
      "execution_count": 284,
      "outputs": [
        {
          "output_type": "stream",
          "name": "stdout",
          "text": [
            "XGB Training Accuracy: 0.9655172413793104\n",
            "XGB Testing Accuracy: 0.7333333333333333\n",
            "{'xgbclassifier__learning_rate': 0.5, 'xgbclassifier__max_depth': 2, 'xgbclassifier__subsample': 1}\n",
            "______________________________________\n",
            "Random Forests Training Accuracy: 0.7241379310344828\n",
            "Random Forests Testing Accuracy: 0.7333333333333333\n",
            "{'randomforestclassifier__max_depth': 8, 'randomforestclassifier__min_samples_leaf': 3, 'randomforestclassifier__min_samples_split': 2, 'randomforestclassifier__n_estimators': 50}\n",
            "______________________________________\n"
          ]
        }
      ]
    },
    {
      "cell_type": "markdown",
      "metadata": {
        "id": "TTbPv11W20aC"
      },
      "source": [
        "XGB was the chosen model for the soft vote in this round. Neither model improved. The XGB did not change any of its hyperparameters when it was given more options so it is optimized."
      ]
    },
    {
      "cell_type": "code",
      "metadata": {
        "colab": {
          "base_uri": "https://localhost:8080/"
        },
        "id": "JA4LRhAg3LdU",
        "outputId": "3400cff5-e3a6-470e-f353-125bec398e23"
      },
      "source": [
        "#one more try to improve Random Forests\n",
        "%%time\n",
        "xgb3_params = {'xgbclassifier__max_depth': [2],\n",
        "              'xgbclassifier__learning_rate': [0.5],\n",
        "              'xgbclassifier__subsample': [1]\n",
        "              }\n",
        "rf3_params = {'randomforestclassifier__max_depth': [8],\n",
        "             'randomforestclassifier__min_samples_split':[2, 3],\n",
        "             'randomforestclassifier__min_samples_leaf': [1, 3, 4], \n",
        "             'randomforestclassifier__n_estimators': [30, 40, 50, 64] #64 because its max_depth ^2\n",
        "             }\n",
        "\n",
        "xgb3_gs = GridSearchCV(xgb2, xgb3_params)\n",
        "rf3_gs = GridSearchCV(rfpipe2, rf3_params)\n",
        "\n",
        "GridVote3 = VotingClassifier(estimators = [('rf', rf3_gs), ('xgb', xgb3_gs)], voting = 'soft')\n",
        "GridVote3.fit(X_train, y_train)\n",
        "print('Combined Models Training Accuracy:', accuracy_score(y_train, GridVote3.predict(X_train)))\n",
        "print('Combined Models Testing Accuracy:', accuracy_score(y_test, GridVote3.predict(X_test)))"
      ],
      "execution_count": 285,
      "outputs": [
        {
          "output_type": "stream",
          "name": "stdout",
          "text": [
            "Combined Models Training Accuracy: 0.9655172413793104\n",
            "Combined Models Testing Accuracy: 0.7333333333333333\n",
            "CPU times: user 8.22 s, sys: 70.2 ms, total: 8.29 s\n",
            "Wall time: 8.26 s\n"
          ]
        }
      ]
    },
    {
      "cell_type": "markdown",
      "metadata": {
        "id": "P756XC696TNs"
      },
      "source": [
        "Yet again no changes. What did Random Forests do?"
      ]
    },
    {
      "cell_type": "code",
      "metadata": {
        "colab": {
          "base_uri": "https://localhost:8080/"
        },
        "id": "TmwcoTkh3-cY",
        "outputId": "f834b0b8-3d92-477e-a504-d3621d66abe5"
      },
      "source": [
        "rf3_gs.fit(X_train, y_train)\n",
        "print('Random Forests Training Accuracy:', accuracy_score(y_train, rf3_gs.predict(X_train)))\n",
        "print('Random Forests Testing Accuracy:', accuracy_score(y_test, rf3_gs.predict(X_test)))\n",
        "print(rf3_gs.best_params_)\n",
        "print('______________________________________')"
      ],
      "execution_count": 286,
      "outputs": [
        {
          "output_type": "stream",
          "name": "stdout",
          "text": [
            "Random Forests Training Accuracy: 0.7241379310344828\n",
            "Random Forests Testing Accuracy: 0.7333333333333333\n",
            "{'randomforestclassifier__max_depth': 8, 'randomforestclassifier__min_samples_leaf': 3, 'randomforestclassifier__min_samples_split': 2, 'randomforestclassifier__n_estimators': 40}\n",
            "______________________________________\n"
          ]
        }
      ]
    },
    {
      "cell_type": "markdown",
      "metadata": {
        "id": "XGObOs8K48SF"
      },
      "source": [
        "Parameters have changed a little, but it seems that Random Forests is optimized as much as it will be able to. The training performs less accurately than the testing data."
      ]
    },
    {
      "cell_type": "markdown",
      "metadata": {
        "id": "F7us7GL1tv55"
      },
      "source": [
        "# Evaluations"
      ]
    },
    {
      "cell_type": "code",
      "metadata": {
        "colab": {
          "base_uri": "https://localhost:8080/",
          "height": 1000
        },
        "id": "xnuav9TK5JwC",
        "outputId": "c20f1fc4-b9b8-4cbd-a267-ab6fe73d409f"
      },
      "source": [
        "#confusion matrix with classification report to see all for this model\n",
        "plot_confusion_matrix(GridVote, X_test, y_test, cmap = 'Blues')\n",
        "plt.title('First GridSearch')\n",
        "y_pred = GridVote.predict(X_test)\n",
        "print('Classification Report For First GridSearch Vote')\n",
        "print(metrics.classification_report(y_test, y_pred))\n",
        "print('Compared to the Last GridSearch')\n",
        "plot_confusion_matrix(GridVote3, X_test, y_test, cmap = 'Blues')\n",
        "plt.title('Last GridSearch')\n",
        "y_pred = GridVote3.predict(X_test)\n",
        "print('Classification Report For Last Gridvote')\n",
        "print(metrics.classification_report(y_test, y_pred))\n",
        "print('Compared to the Pre-GridSearch (Soft Vote)')\n",
        "plot_confusion_matrix(soft_vote2, X_test, y_test, cmap = 'Blues')\n",
        "plt.title('Soft Vote')\n",
        "y_pred = soft_vote2.predict(X_test)\n",
        "print('Classification Report For Soft Vote')\n",
        "print(metrics.classification_report(y_test, y_pred))"
      ],
      "execution_count": 287,
      "outputs": [
        {
          "output_type": "stream",
          "name": "stdout",
          "text": [
            "Classification Report For First GridSearch Vote\n",
            "              precision    recall  f1-score   support\n",
            "\n",
            "           0       0.70      0.88      0.78         8\n",
            "           1       0.80      0.57      0.67         7\n",
            "\n",
            "    accuracy                           0.73        15\n",
            "   macro avg       0.75      0.72      0.72        15\n",
            "weighted avg       0.75      0.73      0.73        15\n",
            "\n",
            "Compared to the Last GridSearch\n",
            "Classification Report For Last Gridvote\n",
            "              precision    recall  f1-score   support\n",
            "\n",
            "           0       0.70      0.88      0.78         8\n",
            "           1       0.80      0.57      0.67         7\n",
            "\n",
            "    accuracy                           0.73        15\n",
            "   macro avg       0.75      0.72      0.72        15\n",
            "weighted avg       0.75      0.73      0.73        15\n",
            "\n",
            "Compared to the Pre-GridSearch (Soft Vote)\n",
            "Classification Report For Soft Vote\n",
            "              precision    recall  f1-score   support\n",
            "\n",
            "           0       0.70      0.88      0.78         8\n",
            "           1       0.80      0.57      0.67         7\n",
            "\n",
            "    accuracy                           0.73        15\n",
            "   macro avg       0.75      0.72      0.72        15\n",
            "weighted avg       0.75      0.73      0.73        15\n",
            "\n"
          ]
        },
        {
          "output_type": "display_data",
          "data": {
            "image/png": "[encoded data removed]",
            "text/plain": [
              "<Figure size 432x288 with 2 Axes>"
            ]
          },
          "metadata": {
            "needs_background": "light"
          }
        },
        {
          "output_type": "display_data",
          "data": {
            "image/png": "[encoded data removed]",
            "text/plain": [
              "<Figure size 432x288 with 2 Axes>"
            ]
          },
          "metadata": {
            "needs_background": "light"
          }
        },
        {
          "output_type": "display_data",
          "data": {
            "image/png": "[encoded data removed]",
            "text/plain": [
              "<Figure size 432x288 with 2 Axes>"
            ]
          },
          "metadata": {
            "needs_background": "light"
          }
        }
      ]
    },
    {
      "cell_type": "markdown",
      "metadata": {
        "id": "um-nQ2iq5g7z"
      },
      "source": [
        "It did not improve from any of our Gridsearches."
      ]
    },
    {
      "cell_type": "code",
      "metadata": {
        "colab": {
          "base_uri": "https://localhost:8080/",
          "height": 476
        },
        "id": "5S6FP_j1ASUN",
        "outputId": "7f207f80-9d7e-49b8-9ba0-568504023ad4"
      },
      "source": [
        "plot_confusion_matrix(xgb2_gs, X_test, y_test, cmap = 'Blues')\n",
        "plt.title('Best XGB')\n",
        "y_pred = xgb2_gs.predict(X_test)\n",
        "print('Classification Report For Best XGB')\n",
        "print(metrics.classification_report(y_test, y_pred))"
      ],
      "execution_count": 291,
      "outputs": [
        {
          "output_type": "stream",
          "name": "stdout",
          "text": [
            "Classification Report For Best XGB\n",
            "              precision    recall  f1-score   support\n",
            "\n",
            "           0       0.70      0.88      0.78         8\n",
            "           1       0.80      0.57      0.67         7\n",
            "\n",
            "    accuracy                           0.73        15\n",
            "   macro avg       0.75      0.72      0.72        15\n",
            "weighted avg       0.75      0.73      0.73        15\n",
            "\n"
          ]
        },
        {
          "output_type": "display_data",
          "data": {
            "image/png": "[encoded data removed]",
            "text/plain": [
              "<Figure size 432x288 with 2 Axes>"
            ]
          },
          "metadata": {
            "needs_background": "light"
          }
        }
      ]
    },
    {
      "cell_type": "markdown",
      "metadata": {
        "id": "G7geqJ7BApym"
      },
      "source": [
        "The above is identical to our Gridsearches and Soft Vote.\n",
        "Therefore, XGB is our most preferred model for this machine learning problem."
      ]
    }
  ]
}